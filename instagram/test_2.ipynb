{
 "cells": [
  {
   "cell_type": "code",
   "execution_count": 2,
   "outputs": [],
   "source": [
    "import instaloader\n",
    "import json"
   ],
   "metadata": {
    "collapsed": false,
    "pycharm": {
     "name": "#%%\n"
    }
   }
  },
  {
   "cell_type": "code",
   "execution_count": 39,
   "outputs": [
    {
     "name": "stdout",
     "output_type": "stream",
     "text": [
      "mlchlel_\n"
     ]
    }
   ],
   "source": [
    "bot = instaloader.Instaloader()\n",
    "\n",
    "file = open('pepain101_followings.txt_followers.txt')\n",
    "\n",
    "# private_list = list()\n",
    "# public_list = list()\n",
    "name_list = list()\n",
    "user_list = list()\n",
    "i = 0\n",
    "\n",
    "for i in file:\n",
    "    name_list.append(i.rsplit())\n",
    "for i in name_list:\n",
    "    for j in i:\n",
    "        user_list.append(j)\n",
    "print(user_list[1927])"
   ],
   "metadata": {
    "collapsed": false,
    "pycharm": {
     "name": "#%%\n"
    }
   }
  },
  {
   "cell_type": "code",
   "execution_count": 42,
   "outputs": [
    {
     "name": "stdout",
     "output_type": "stream",
     "text": [
      "mlchlel_ 1/2066\n",
      "semsmeeman 2/2066\n",
      "lars_dokman 3/2066\n",
      "lars2003jacobs 4/2066\n",
      "jim_willems 5/2066\n",
      "memezar 6/2066\n",
      "x.ana.a 7/2066\n",
      "memelionn 8/2066\n",
      "xlotteklaassen 9/2066\n",
      "sanderkruizinga 10/2066\n",
      "laurablancovdv 11/2066\n",
      "loissandkuijl 12/2066\n",
      "floorbraamx 13/2066\n",
      "robmikkers 14/2066\n",
      "suavesondervickmemes 15/2066\n",
      "loudequalsfunny 16/2066\n",
      "dylano_geeven 17/2066\n",
      "perrevanbeek 18/2066\n",
      "jannevdmeeren 19/2066\n",
      "tychohinnen 20/2066\n",
      "h.k321 21/2066\n",
      "fleur.2506 22/2066\n",
      "selmayucesan 23/2066\n",
      "joepert_ 24/2066\n",
      "ingridrijkers_ 25/2066\n",
      "tirza.peeters 26/2066\n",
      "maartje_22 27/2066\n",
      "hourly_strange 28/2066\n",
      "hourly_unbelievable 29/2066\n",
      "pubity 30/2066\n",
      "bastiaanlukassen 31/2066\n",
      "jort_vandijk 32/2066\n",
      "niggalations316 33/2066\n",
      "dead_and._soulless 34/2066\n",
      "sita.venkata 35/2066\n",
      "niels.s02 36/2066\n",
      "pippa.sts 37/2066\n",
      "maartjephotography 38/2066\n",
      "owen_seetsen 39/2066\n",
      "trashcanpaul 40/2066\n",
      "_memegod 41/2066\n",
      "majinminato 42/2066\n",
      "hourly_facts 43/2066\n",
      "danislagboom 44/2066\n",
      "jarne.h11 45/2066\n",
      "woutervanbussel 46/2066\n",
      "fleurwelten 47/2066\n",
      "giel_123 48/2066\n",
      "liekevandaelexx 49/2066\n",
      "siegert.j 50/2066\n",
      "eva.visser5 51/2066\n",
      "g.flokstra1 52/2066\n",
      "ykmnxa_ 53/2066\n",
      "hugo_.o 54/2066\n",
      "solly.p0lly 55/2066\n",
      "spray 56/2066\n",
      "vanespliff 57/2066\n",
      "dailymemes.exe 58/2066\n",
      "mememonk_ 59/2066\n",
      "semvdhijden 60/2066\n",
      "srsupervisor 61/2066\n",
      "anonymous__trickster 62/2066\n",
      "depressed_dankness 63/2066\n",
      "salad.snake 64/2066\n",
      "arondas_ 65/2066\n",
      "roosjederiu 66/2066\n",
      "fleurbazelmans 67/2066\n",
      "too_many_memes_ 68/2066\n",
      "kikivdtol 69/2066\n",
      "chrisvanham_ 70/2066\n",
      "floris.s_ 71/2066\n",
      "cissvdh 72/2066\n",
      "jorn.dirks 73/2066\n",
      "pepijn.hendriks 74/2066\n",
      "crosseyedsnowie 75/2066\n",
      "only_white_pictures 76/2066\n",
      "martvgassel 77/2066\n",
      "isabrandsmaa 78/2066\n",
      "gijs.janssen5 79/2066\n",
      "jonigarritsen 80/2066\n",
      "gijs.m 81/2066\n",
      "guidogerlag 82/2066\n",
      "timvhemert 83/2066\n",
      "itsfleurv 84/2066\n",
      "luca.2304 85/2066\n",
      "joelv.r 86/2066\n",
      "slavescomedy 87/2066\n",
      "hardcorecomedy2.0 88/2066\n",
      "bobokkerse7 89/2066\n",
      "xx.jasmijnn 90/2066\n",
      "xanita.pv 91/2066\n",
      "dankest_memes_m8 92/2066\n",
      "kevinhansems27 93/2066\n",
      "maritvanspreuwel 94/2066\n",
      "thebluntforcetrauma 95/2066\n",
      "pjotr_maes 96/2066\n",
      "yrsaroelofs 97/2066\n",
      "roosdillen 98/2066\n",
      "floortjee_vr 99/2066\n",
      "noudkaay 100/2066\n",
      "sannevzanten 101/2066\n",
      "theresehammink 102/2066\n",
      "d.sweegers 103/2066\n",
      "bart_v_s 104/2066\n",
      "ricoamerica 105/2066\n",
      "laurens_verbruggen 106/2066\n",
      "lonnekevennixx 107/2066\n",
      "chiaraklerksx 108/2066\n",
      "dumpert 109/2066\n",
      "novavdlaar 110/2066\n",
      "finette2307 111/2066\n",
      "xfemkevansprangx 112/2066\n",
      "jordi_scheffers_ 113/2066\n",
      "_.tygo 114/2066\n",
      "teunsmits_ 115/2066\n",
      "rubenbaasmaas 116/2066\n",
      "demikreutzelman 117/2066\n",
      "tom_van_brakel 118/2066\n",
      "puppystagrams 119/2066\n",
      "joyce.lotte 120/2066\n",
      "samiraklerks 121/2066\n",
      "jiska.beuk 122/2066\n",
      "kussxmarleen 123/2066\n",
      "fleurkoeling 124/2066\n",
      "daanh_040 125/2066\n",
      "xmichelle_vt 126/2066\n",
      "fabiennehelmons.x 127/2066\n",
      "quintyfinkenflugel 128/2066\n",
      "x__nanne 129/2066\n",
      "laura_pennekamp 130/2066\n",
      "maartjevandaelexx 131/2066\n",
      "floordas 132/2066\n",
      "_tessavdm 133/2066\n",
      "suusvdsande 134/2066\n",
      "nienekaiser 135/2066\n",
      "aliientears 136/2066\n",
      "xliannemeijers 137/2066\n",
      "kjell.segers 138/2066\n",
      "stijnmeijers 139/2066\n"
     ]
    }
   ],
   "source": [
    "private_list = list()\n",
    "public_list = list()\n",
    "i = 0\n",
    "bot.login('cj_oooooooh', 'BIGsmokey')\n",
    "for user in user_list[1927:2066]:\n",
    "    i += 1\n",
    "    print(user+\" \"+str(i)+\"/\"+str(len(user_list)))\n",
    "    # Load a profile from an Instagram handle\n",
    "    profile = instaloader.Profile.from_username(bot.context, user)\n",
    "    username = profile.username\n",
    "    privacy = profile.is_private\n",
    "    bio = profile.biography,profile.external_url\n",
    "    final = {\n",
    "        'Username': username,\n",
    "        'Privacy': privacy,\n",
    "        'Bio': bio\n",
    "    }\n",
    "    final = json.dumps(final)\n",
    "    if privacy == False:\n",
    "        private_list.append(final)\n",
    "    elif privacy == True:\n",
    "        public_list.append(final)"
   ],
   "metadata": {
    "collapsed": false,
    "pycharm": {
     "name": "#%%\n"
    }
   }
  },
  {
   "cell_type": "code",
   "execution_count": 43,
   "outputs": [
    {
     "data": {
      "text/plain": "['{\"Username\": \"mlchlel_\", \"Privacy\": true, \"Bio\": [\"\\\\ud83e\\\\udd8a\", null]}',\n '{\"Username\": \"semsmeeman\", \"Privacy\": true, \"Bio\": [\"\\\\ud83c\\\\udf05\", null]}',\n '{\"Username\": \"lars_dokman\", \"Privacy\": true, \"Bio\": [\"\", null]}',\n '{\"Username\": \"jim_willems\", \"Privacy\": true, \"Bio\": [\"\", null]}',\n '{\"Username\": \"x.ana.a\", \"Privacy\": true, \"Bio\": [\"\", null]}',\n '{\"Username\": \"sanderkruizinga\", \"Privacy\": true, \"Bio\": [\"\", null]}',\n '{\"Username\": \"laurablancovdv\", \"Privacy\": true, \"Bio\": [\"\", null]}',\n '{\"Username\": \"floorbraamx\", \"Privacy\": true, \"Bio\": [\"\\\\u2764\\\\ufe0f\", null]}',\n '{\"Username\": \"suavesondervickmemes\", \"Privacy\": true, \"Bio\": [\"\\\\ud835\\\\udd40\\\\ud835\\\\udd5c \\\\ud835\\\\udd4a\\\\ud835\\\\udd60\\\\ud835\\\\udd5f\\\\ud835\\\\udd55\\\\ud835\\\\udd56\\\\ud835\\\\udd63\\\\ud835\\\\udd67\\\\ud835\\\\udd5a\\\\ud835\\\\udd54\\\\ud835\\\\udd5c, \\\\ud835\\\\udd5b\\\\ud835\\\\udd5a\\\\ud835\\\\udd5b \\\\ud835\\\\udd4a\\\\ud835\\\\udd60\\\\ud835\\\\udd5f\\\\ud835\\\\udd55\\\\ud835\\\\udd56\\\\ud835\\\\udd63\\\\ud835\\\\udd67\\\\ud835\\\\udd5a\\\\ud835\\\\udd54\\\\ud835\\\\udd5c, \\\\ud835\\\\udd68\\\\ud835\\\\udd5a\\\\ud835\\\\udd5b \\\\ud835\\\\udd4a\\\\ud835\\\\udd60\\\\ud835\\\\udd5f\\\\ud835\\\\udd55\\\\ud835\\\\udd56\\\\ud835\\\\udd63\\\\ud835\\\\udd67\\\\ud835\\\\udd5a\\\\ud835\\\\udd54\\\\ud835\\\\udd5c\", null]}',\n '{\"Username\": \"dylano_geeven\", \"Privacy\": true, \"Bio\": [\"\\\\u2764\\\\ufe0f @jannevdmeeren 08-06-18\\\\u2764\\\\ufe0f\", null]}',\n '{\"Username\": \"perrevanbeek\", \"Privacy\": true, \"Bio\": [\"Fabricati diem, pvnc!\", null]}',\n '{\"Username\": \"jannevdmeeren\", \"Privacy\": true, \"Bio\": [\"Sc: janne_vdm\\\\n@dylano_geeven \\\\u2661\", null]}',\n '{\"Username\": \"h.k321\", \"Privacy\": true, \"Bio\": [\"tea kettle\", null]}',\n '{\"Username\": \"fleur.2506\", \"Privacy\": true, \"Bio\": [\"\", null]}',\n '{\"Username\": \"selmayucesan\", \"Privacy\": true, \"Bio\": [\"\", null]}',\n '{\"Username\": \"joepert_\", \"Privacy\": true, \"Bio\": [\"*iets wat je waarschijnlijk al weet*\", null]}',\n '{\"Username\": \"ingridrijkers_\", \"Privacy\": true, \"Bio\": [\"\", null]}',\n '{\"Username\": \"tirza.peeters\", \"Privacy\": true, \"Bio\": [\"Mechanical Engineering TUe \\\\ud83d\\\\udcda   \\\\u2022      Nuvoc   DS2  \\\\ud83c\\\\udfd0   Snapchat: Tirzaaa01\", null]}',\n '{\"Username\": \"maartje_22\", \"Privacy\": true, \"Bio\": [\"\\\\ud835\\\\udcdc\\\\ud835\\\\udcea\\\\ud835\\\\udcea\\\\ud835\\\\udcfb\\\\ud835\\\\udcfd\\\\ud835\\\\udcf3\\\\ud835\\\\udcee \\\\ud835\\\\udcff\\\\ud835\\\\udcea\\\\ud835\\\\udcf7 \\\\ud835\\\\udce1\\\\ud835\\\\udcf8\\\\ud835\\\\udcf8\\\\ud835\\\\udcf2\\\\ud835\\\\udcf3\\\\n\\\\ud83d\\\\udc7b : maartje140122\", null]}',\n '{\"Username\": \"bastiaanlukassen\", \"Privacy\": true, \"Bio\": [\"Rkvvo\\\\u26bd\\\\ufe0f\\\\ud83c\\\\udf7a\\\\n\\\\ud83d\\\\udc7b blukassen3\", null]}',\n '{\"Username\": \"jort_vandijk\", \"Privacy\": true, \"Bio\": [\"\\\\u26bd\\\\ufe0f Rkvvo\\\\ud83d\\\\udc99\\\\ud83d\\\\udc9b \\\\ud83d\\\\udc7bjort_vandijk\", null]}',\n '{\"Username\": \"niggalations316\", \"Privacy\": true, \"Bio\": [\"Never trust a bitch \\\\ud83e\\\\udd10\\\\nDM for Promo \\\\ud83d\\\\udcb0\", null]}',\n '{\"Username\": \"dead_and._soulless\", \"Privacy\": true, \"Bio\": [\"Please send souls\\\\ud83d\\\\udc80\\\\nGang shit\\\\ud83d\\\\udc80\\\\nAdmins:\\\\nSoulless (Owner)\\\\nKlaviXd (Admin)\", null]}',\n '{\"Username\": \"sita.venkata\", \"Privacy\": true, \"Bio\": [\"\", null]}',\n '{\"Username\": \"niels.s02\", \"Privacy\": true, \"Bio\": [\"@xmiloudk \\\\u27647-6-\\'19\\\\u2764\\\\n-\\\\nLife is all about smiles and high fives\\\\ud83d\\\\ude01\\\\u270c\\\\ud83c\\\\udffb\", null]}',\n '{\"Username\": \"pippa.sts\", \"Privacy\": true, \"Bio\": [\"\\\\ud83d\\\\udccdNyenrode business universiteit\\\\n Sc; xpippaslaats\", null]}',\n '{\"Username\": \"maartjephotography\", \"Privacy\": true, \"Bio\": [\"\", null]}',\n '{\"Username\": \"owen_seetsen\", \"Privacy\": true, \"Bio\": [\"\\\\u2600\\\\ufe0f\\\\ud83d\\\\udcaa\", null]}',\n '{\"Username\": \"majinminato\", \"Privacy\": true, \"Bio\": [\"\", null]}',\n '{\"Username\": \"danislagboom\", \"Privacy\": true, \"Bio\": [\"Tilburg University \\\\ud83d\\\\udcda\", null]}',\n '{\"Username\": \"jarne.h11\", \"Privacy\": true, \"Bio\": [\"\", null]}',\n '{\"Username\": \"fleurwelten\", \"Privacy\": true, \"Bio\": [\"@fleurscustom l @fw_fotografie_ \\\\nTilburg law school\", null]}',\n '{\"Username\": \"giel_123\", \"Privacy\": true, \"Bio\": [\"\", null]}',\n '{\"Username\": \"siegert.j\", \"Privacy\": true, \"Bio\": [\".\", null]}',\n '{\"Username\": \"eva.visser5\", \"Privacy\": true, \"Bio\": [\"Snap: evisser85 \\\\ud83c\\\\udf40\\\\ud83e\\\\udd17\", null]}',\n '{\"Username\": \"g.flokstra1\", \"Privacy\": true, \"Bio\": [\"19\\\\ud83c\\\\udf88   Una 1\\\\u26bd\\\\ufe0f\\\\u2764\\\\ufe0f\", null]}',\n '{\"Username\": \"hugo_.o\", \"Privacy\": true, \"Bio\": [\"\", null]}',\n '{\"Username\": \"vanespliff\", \"Privacy\": true, \"Bio\": [\"Har du g\\\\u00e5tt deg bort? Jeg tror du har havnet p\\\\u00e5 feil sted.\", null]}',\n '{\"Username\": \"semvdhijden\", \"Privacy\": true, \"Bio\": [\"\", null]}',\n '{\"Username\": \"roosjederiu\", \"Privacy\": true, \"Bio\": [\"\\\\ud83c\\\\udf39\", null]}',\n '{\"Username\": \"chrisvanham_\", \"Privacy\": true, \"Bio\": [\"Sc: chrisvham\", null]}',\n '{\"Username\": \"floris.s_\", \"Privacy\": true, \"Bio\": [\"Tilburg uni.                                                                             Sc:s_floris\", null]}',\n '{\"Username\": \"cissvdh\", \"Privacy\": true, \"Bio\": [\"\", null]}',\n '{\"Username\": \"jorn.dirks\", \"Privacy\": true, \"Bio\": [\"\", null]}',\n '{\"Username\": \"martvgassel\", \"Privacy\": true, \"Bio\": [\"\", null]}',\n '{\"Username\": \"gijs.janssen5\", \"Privacy\": true, \"Bio\": [\"\", null]}',\n '{\"Username\": \"jonigarritsen\", \"Privacy\": true, \"Bio\": [\"\\\\u2765 be happy\", null]}',\n '{\"Username\": \"gijs.m\", \"Privacy\": true, \"Bio\": [\"\", null]}',\n '{\"Username\": \"timvhemert\", \"Privacy\": true, \"Bio\": [\"IBA - Tilburg University \\\\ud83d\\\\udcda\", null]}',\n '{\"Username\": \"itsfleurv\", \"Privacy\": true, \"Bio\": [\"\", null]}',\n '{\"Username\": \"luca.2304\", \"Privacy\": true, \"Bio\": [\"\", null]}',\n '{\"Username\": \"slavescomedy\", \"Privacy\": true, \"Bio\": [\"\", null]}',\n '{\"Username\": \"bobokkerse7\", \"Privacy\": true, \"Bio\": [\"@baskojongheren2\", null]}',\n '{\"Username\": \"xanita.pv\", \"Privacy\": true, \"Bio\": [\"| \\\\ud83c\\\\uddf3\\\\ud83c\\\\uddec| Only the people i know \\\\ud83e\\\\udd19\\\\ud83c\\\\udffd\\\\u2763\\\\ufe0f\", null]}',\n '{\"Username\": \"kevinhansems27\", \"Privacy\": true, \"Bio\": [\"\", null]}',\n '{\"Username\": \"maritvanspreuwel\", \"Privacy\": true, \"Bio\": [\"Sc; mvspreuwel\", null]}',\n '{\"Username\": \"yrsaroelofs\", \"Privacy\": true, \"Bio\": [\"\\\\ud83c\\\\udf34\\\\ud83c\\\\udf1f\\\\ud83c\\\\udf3a\\\\nHAS Bedrijfskunde & Foodbusiness\", null]}',\n '{\"Username\": \"roosdillen\", \"Privacy\": true, \"Bio\": [\"\", null]}',\n '{\"Username\": \"theresehammink\", \"Privacy\": true, \"Bio\": [\"Tilburg University - Psychologie\", null]}',\n '{\"Username\": \"bart_v_s\", \"Privacy\": true, \"Bio\": [\"\\\\u2708\\\\ufe0f\\\\ud83d\\\\udd27Student Aircraft Maintenance - \\\\ud83d\\\\udcdaROC Tilburg\", null]}',\n '{\"Username\": \"lonnekevennixx\", \"Privacy\": true, \"Bio\": [\"\", null]}',\n '{\"Username\": \"novavdlaar\", \"Privacy\": true, \"Bio\": [\"\\\\u201c\\\\ud835\\\\udc3b\\\\ud835\\\\udcb6\\\\ud835\\\\udcc5\\\\ud835\\\\udcc5\\\\ud835\\\\udcbe\\\\ud835\\\\udcc3\\\\ud835\\\\udc52\\\\ud835\\\\udcc8\\\\ud835\\\\udcc8  \\\\ud835\\\\udcbe\\\\ud835\\\\udcc8  \\\\ud835\\\\udcc9\\\\ud835\\\\udcbd\\\\ud835\\\\udc52  \\\\ud835\\\\udcc8\\\\ud835\\\\udc52\\\\ud835\\\\udcb8\\\\ud835\\\\udcc7\\\\ud835\\\\udc52\\\\ud835\\\\udcc9  \\\\ud835\\\\udcc9\\\\ud835\\\\udc5c  \\\\ud835\\\\udcb6\\\\ud835\\\\udcc1\\\\ud835\\\\udcc1   \\\\ud835\\\\udcb7\\\\ud835\\\\udc52\\\\ud835\\\\udcb6\\\\ud835\\\\udcca\\\\ud835\\\\udcc9\\\\ud835\\\\udcce.   \\\\ud835\\\\udcaf\\\\ud835\\\\udcbd\\\\ud835\\\\udc52\\\\ud835\\\\udcc7\\\\ud835\\\\udc52  \\\\ud835\\\\udcbe\\\\ud835\\\\udcc8  \\\\ud835\\\\udcc3\\\\ud835\\\\udc5c  \\\\ud835\\\\udcb7\\\\ud835\\\\udc52\\\\ud835\\\\udcb6\\\\ud835\\\\udcca\\\\ud835\\\\udcc9\\\\ud835\\\\udcce \\\\ud835\\\\udccc\\\\ud835\\\\udcbe\\\\ud835\\\\udcc9\\\\ud835\\\\udcbd\\\\ud835\\\\udc5c\\\\ud835\\\\udcca\\\\ud835\\\\udcc9  \\\\ud835\\\\udcbd\\\\ud835\\\\udcb6\\\\ud835\\\\udcc5\\\\ud835\\\\udcc5\\\\ud835\\\\udcbe\\\\ud835\\\\udcc3\\\\ud835\\\\udc52\\\\ud835\\\\udcc8\\\\ud835\\\\udcc8 \\\\u2765.\\\\u201d\\\\n-\\\\ud835\\\\ude72\\\\ud835\\\\ude77\\\\ud835\\\\ude81\\\\ud835\\\\ude78\\\\ud835\\\\ude82\\\\ud835\\\\ude83\\\\ud835\\\\ude78\\\\ud835\\\\ude70\\\\ud835\\\\ude7d \\\\ud835\\\\ude73\\\\ud835\\\\ude78\\\\ud835\\\\ude7e\\\\ud835\\\\ude81\", null]}',\n '{\"Username\": \"finette2307\", \"Privacy\": true, \"Bio\": [\"\\\\ud83c\\\\udf93 verloskundige in opleiding \\\\n\\\\ud83d\\\\udccd veldhoven, nederland \\\\n\\\\ud83c\\\\udfd0 volleyball\", null]}',\n '{\"Username\": \"xfemkevansprangx\", \"Privacy\": true, \"Bio\": [\"\\\\u2022 UM biomedical sciences\\\\ud83e\\\\uddec                                               \\\\u2022 nuvoc DS2 & fyrfad A1\\\\ud83c\\\\udfd0\", null]}',\n '{\"Username\": \"jordi_scheffers_\", \"Privacy\": true, \"Bio\": [\"\", null]}',\n '{\"Username\": \"rubenbaasmaas\", \"Privacy\": true, \"Bio\": [\".\", null]}',\n '{\"Username\": \"demikreutzelman\", \"Privacy\": true, \"Bio\": [\"\\\\u2730 \\\\u2730 \\\\u2730\\\\n\\\\ud835\\\\udc47\\\\ud835\\\\udc56\\\\ud835\\\\udc59\\\\ud835\\\\udc4f\\\\ud835\\\\udc62\\\\ud835\\\\udc5f\\\\ud835\\\\udc54 \\\\ud835\\\\udc48\\\\ud835\\\\udc5b\\\\ud835\\\\udc56\\\\ud835\\\\udc63\\\\ud835\\\\udc52\\\\ud835\\\\udc5f\\\\ud835\\\\udc60\\\\ud835\\\\udc56\\\\ud835\\\\udc61\\\\ud835\\\\udc66\", null]}',\n '{\"Username\": \"samiraklerks\", \"Privacy\": true, \"Bio\": [\"\\\\ud83d\\\\udcda HTH\", null]}',\n '{\"Username\": \"jiska.beuk\", \"Privacy\": true, \"Bio\": [\"Data Science & Artificial Intelligence \\\\nMaastricht University\", null]}',\n '{\"Username\": \"daanh_040\", \"Privacy\": true, \"Bio\": [\"\", null]}',\n '{\"Username\": \"xmichelle_vt\", \"Privacy\": true, \"Bio\": [\"\", null]}',\n '{\"Username\": \"quintyfinkenflugel\", \"Privacy\": true, \"Bio\": [\"\", null]}',\n '{\"Username\": \"x__nanne\", \"Privacy\": true, \"Bio\": [\"\\\\ud83c\\\\udfb5\", null]}',\n '{\"Username\": \"laura_pennekamp\", \"Privacy\": true, \"Bio\": [\"\", null]}',\n '{\"Username\": \"floordas\", \"Privacy\": true, \"Bio\": [\":)\", null]}',\n '{\"Username\": \"_tessavdm\", \"Privacy\": true, \"Bio\": [\"Maastricht University - BMS\", null]}',\n '{\"Username\": \"suusvdsande\", \"Privacy\": true, \"Bio\": [\"HAS | Food Innovation \\\\ud83c\\\\udf4b                               @qube._coverband\", null]}',\n '{\"Username\": \"nienekaiser\", \"Privacy\": true, \"Bio\": [\"\\\\ud835\\\\ude83\\\\ud835\\\\ude8e\\\\ud835\\\\ude8c\\\\ud835\\\\ude91\\\\ud835\\\\ude97\\\\ud835\\\\ude92\\\\ud835\\\\ude9c\\\\ud835\\\\ude8c\\\\ud835\\\\ude91\\\\ud835\\\\ude8e \\\\ud835\\\\ude76\\\\ud835\\\\ude8e\\\\ud835\\\\ude97\\\\ud835\\\\ude8e\\\\ud835\\\\ude8e\\\\ud835\\\\ude9c\\\\ud835\\\\ude94\\\\ud835\\\\ude9e\\\\ud835\\\\ude97\\\\ud835\\\\ude8d\\\\ud835\\\\ude8e - \\\\ud835\\\\ude84\\\\ud835\\\\ude97\\\\ud835\\\\ude92\\\\ud835\\\\ude9f\\\\ud835\\\\ude8e\\\\ud835\\\\ude9b\\\\ud835\\\\ude9c\\\\ud835\\\\ude92\\\\ud835\\\\ude9d\\\\ud835\\\\udea2 \\\\ud835\\\\ude98\\\\ud835\\\\ude8f \\\\ud835\\\\ude83\\\\ud835\\\\udea0\\\\ud835\\\\ude8e\\\\ud835\\\\ude97\\\\ud835\\\\ude9d\\\\ud835\\\\ude8e\\\\ud83e\\\\ude7a\\\\n\\\\u2665 \\\\ud835\\\\ude86\\\\ud835\\\\ude8a\\\\ud835\\\\ude9d \\\\ud835\\\\ude93\\\\ud835\\\\ude8e \\\\ud835\\\\ude92\\\\ud835\\\\ude97 \\\\ud835\\\\ude93\\\\ud835\\\\ude8e \\\\ud835\\\\ude91\\\\ud835\\\\ude8a\\\\ud835\\\\ude9b\\\\ud835\\\\ude9d \\\\ud835\\\\ude8b\\\\ud835\\\\ude8e\\\\ud835\\\\udea0\\\\ud835\\\\ude8a\\\\ud835\\\\ude8a\\\\ud835\\\\ude9b\\\\ud835\\\\ude9d, \\\\ud835\\\\ude9b\\\\ud835\\\\ude8a\\\\ud835\\\\ude8a\\\\ud835\\\\ude94 \\\\ud835\\\\ude93\\\\ud835\\\\ude8e \\\\ud835\\\\ude97\\\\ud835\\\\ude98\\\\ud835\\\\ude98\\\\ud835\\\\ude92\\\\ud835\\\\ude9d \\\\ud835\\\\ude96\\\\ud835\\\\ude8e\\\\ud835\\\\ude8e\\\\ud835\\\\ude9b \\\\ud835\\\\ude94\\\\ud835\\\\udea0\\\\ud835\\\\ude92\\\\ud835\\\\ude93\\\\ud835\\\\ude9d \\\\u2665\", null]}',\n '{\"Username\": \"kjell.segers\", \"Privacy\": true, \"Bio\": [\"Owner of: \\\\n\\\\ud83d\\\\udcda @bijlesdigitaal                                                                            \\\\ud83c\\\\udfc3\\\\ud83c\\\\udffc\\\\u200d\\\\u2642\\\\ufe0f @gewoonlekkerrennen\", null]}']"
     },
     "execution_count": 43,
     "metadata": {},
     "output_type": "execute_result"
    }
   ],
   "source": [
    "public_list"
   ],
   "metadata": {
    "collapsed": false,
    "pycharm": {
     "name": "#%%\n"
    }
   }
  },
  {
   "cell_type": "code",
   "execution_count": 5,
   "outputs": [],
   "source": [],
   "metadata": {
    "collapsed": false,
    "pycharm": {
     "name": "#%%\n"
    }
   }
  },
  {
   "cell_type": "code",
   "execution_count": 44,
   "outputs": [],
   "source": [
    "with open('private_users.json', 'w') as out_file:\n",
    "    for elem in private_list:\n",
    "        elem = json.loads(elem)\n",
    "        if type(elem['Bio']) == list:\n",
    "            elem['Bio'] = elem['Bio'][:-1]\n",
    "            elem['Bio'] = elem['Bio'][0]\n",
    "        elem = json.dumps(elem)\n",
    "        out_file.write(str(elem)+'\\n')\n",
    "with open('public_users.json', 'w') as out_file:\n",
    "    for elem in public_list:\n",
    "        elem = json.loads(elem)\n",
    "        if type(elem['Bio']) == list:\n",
    "            elem['Bio'] = elem['Bio'][:-1]\n",
    "            elem['Bio'] = elem['Bio'][0]\n",
    "        elem = json.dumps(elem)\n",
    "        out_file.write(str(elem)+'\\n')"
   ],
   "metadata": {
    "collapsed": false,
    "pycharm": {
     "name": "#%%\n"
    }
   }
  },
  {
   "cell_type": "code",
   "execution_count": 45,
   "outputs": [],
   "source": [
    "import os\n",
    "from pymongo import MongoClient\n",
    "from pymongo import InsertOne\n",
    "\n",
    "myclient = MongoClient('mongodb://localhost:27017')\n",
    "# Database\n",
    "db = myclient['Instagram']\n",
    "# Collection name\n",
    "collection = db['public']\n",
    "# Opening and uploading the json file.\n",
    "requesting = list()\n",
    "with open('private_users.json', 'r', encoding='utf-8') as file:\n",
    "    for line in file:\n",
    "        my_dict = json.loads(line)\n",
    "        requesting.append(InsertOne(my_dict))\n",
    "    collection.bulk_write(requesting)\n",
    "    myclient.close()"
   ],
   "metadata": {
    "collapsed": false,
    "pycharm": {
     "name": "#%%\n"
    }
   }
  },
  {
   "cell_type": "code",
   "execution_count": 46,
   "outputs": [],
   "source": [
    "import os\n",
    "from pymongo import MongoClient\n",
    "from pymongo import InsertOne\n",
    "\n",
    "myclient = MongoClient('mongodb://localhost:27017')\n",
    "# Database\n",
    "db = myclient['Instagram']\n",
    "# Collection name\n",
    "collection = db['private']\n",
    "# Opening and uploading the json file.\n",
    "requesting = list()\n",
    "with open('public_users.json', 'r', encoding='utf-8') as file:\n",
    "    for line in file:\n",
    "        my_dict = json.loads(line)\n",
    "        requesting.append(InsertOne(my_dict))\n",
    "    collection.bulk_write(requesting)\n",
    "    myclient.close()"
   ],
   "metadata": {
    "collapsed": false,
    "pycharm": {
     "name": "#%%\n"
    }
   }
  },
  {
   "cell_type": "code",
   "execution_count": 49,
   "outputs": [],
   "source": [
    "def get_users():\n",
    "    myclient = MongoClient(\"mongodb://localhost:27017/\")\n",
    "    # linking the datab\n",
    "    db = myclient['Instagram']\n",
    "    # linking the collections\n",
    "    tweet_collection = db['private_tot']\n",
    "    tweet = tweet_collection.find({},{\"_id\": 0})\n",
    "    return tweet"
   ],
   "metadata": {
    "collapsed": false,
    "pycharm": {
     "name": "#%%\n"
    }
   }
  },
  {
   "cell_type": "code",
   "execution_count": 75,
   "outputs": [],
   "source": [
    "def check(string, sub_str):\n",
    "    if (string.find(sub_str) == -1):\n",
    "        # print(\"NO\")\n",
    "        return False\n",
    "    else:\n",
    "        # print(\"YES\")\n",
    "        return True"
   ],
   "metadata": {
    "collapsed": false,
    "pycharm": {
     "name": "#%%\n"
    }
   }
  },
  {
   "cell_type": "code",
   "execution_count": 73,
   "outputs": [
    {
     "name": "stdout",
     "output_type": "stream",
     "text": [
      "YES\n"
     ]
    },
    {
     "data": {
      "text/plain": "True"
     },
     "execution_count": 73,
     "metadata": {},
     "output_type": "execute_result"
    }
   ],
   "source": [
    "string = \"geeks for geeks\"\n",
    "sub_str = \"geek\"\n",
    "check(string, sub_str)"
   ],
   "metadata": {
    "collapsed": false,
    "pycharm": {
     "name": "#%%\n"
    }
   }
  },
  {
   "cell_type": "code",
   "execution_count": 76,
   "outputs": [
    {
     "name": "stdout",
     "output_type": "stream",
     "text": [
      "meme__lemon\n",
      "2019\n",
      "anarchistmemes.exe\n",
      "2019\n",
      "yourlocalmemeboii\n",
      "2019\n",
      "suavesondervickmemes\n",
      "2019\n"
     ]
    }
   ],
   "source": [
    "for user in get_users():\n",
    "    if user['Last_activity'] != False:\n",
    "        year = int(user['Last_activity'][:4])\n",
    "        # print(year)\n",
    "        if year < 2020:\n",
    "            if check(user['Username'], 'meme'):\n",
    "                print(user['Username'])\n",
    "                print(year)"
   ],
   "metadata": {
    "collapsed": false,
    "pycharm": {
     "name": "#%%\n"
    }
   }
  },
  {
   "cell_type": "code",
   "execution_count": null,
   "outputs": [],
   "source": [],
   "metadata": {
    "collapsed": false,
    "pycharm": {
     "name": "#%%\n"
    }
   }
  }
 ],
 "metadata": {
  "kernelspec": {
   "display_name": "Python 3",
   "language": "python",
   "name": "python3"
  },
  "language_info": {
   "codemirror_mode": {
    "name": "ipython",
    "version": 2
   },
   "file_extension": ".py",
   "mimetype": "text/x-python",
   "name": "python",
   "nbconvert_exporter": "python",
   "pygments_lexer": "ipython2",
   "version": "2.7.6"
  }
 },
 "nbformat": 4,
 "nbformat_minor": 0
}