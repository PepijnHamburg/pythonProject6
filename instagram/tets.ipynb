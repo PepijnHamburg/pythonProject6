{
 "cells": [
  {
   "cell_type": "code",
   "execution_count": 1,
   "outputs": [],
   "source": [
    "import instaloader\n",
    "import datetime\n",
    "import json\n",
    "import time\n",
    "from datetime import datetime\n",
    "from datetime import date\n",
    "from itertools import dropwhile, takewhile\n",
    "import requests"
   ],
   "metadata": {
    "collapsed": false,
    "pycharm": {
     "name": "#%%\n"
    }
   }
  },
  {
   "cell_type": "code",
   "execution_count": 2,
   "outputs": [],
   "source": [
    "file = open(\"pepain101_followings.txt_followers.txt\", \"r\")"
   ],
   "metadata": {
    "collapsed": false,
    "pycharm": {
     "name": "#%%\n"
    }
   }
  },
  {
   "cell_type": "code",
   "execution_count": 3,
   "outputs": [
    {
     "name": "stdout",
     "output_type": "stream",
     "text": [
      "<_io.TextIOWrapper name='pepain101_followings.txt_followers.txt' mode='r' encoding='cp1252'>\n"
     ]
    }
   ],
   "source": [
    "print(file)"
   ],
   "metadata": {
    "collapsed": false,
    "pycharm": {
     "name": "#%%\n"
    }
   }
  },
  {
   "cell_type": "code",
   "execution_count": 4,
   "outputs": [],
   "source": [
    "# Get instance\n",
    "L = instaloader.Instaloader()\n",
    "\n",
    "# Login using the credentials\n",
    "# l.login('pepain101', 'Espresso!')\n",
    "L.login('pepain101', 'Espresso!')\n",
    "\n",
    "#profile = instaloader.Profile.from_username(l.context, \"pepain101\")"
   ],
   "metadata": {
    "collapsed": false,
    "pycharm": {
     "name": "#%%\n"
    }
   }
  },
  {
   "cell_type": "code",
   "execution_count": 5,
   "outputs": [
    {
     "name": "stdout",
     "output_type": "stream",
     "text": [
      "itssophiadimartino\n"
     ]
    },
    {
     "name": "stderr",
     "output_type": "stream",
     "text": [
      "JSON Query to api/v1/users/web_profile_info/?username=itssophiadimartino: 429 Too Many Requests [retrying; skip with ^C]\n",
      "Number of requests within last 10/11/20/22/30/60 minutes grouped by type:\n",
      "                              other:    1    1    1    1    1    1\n",
      " *                           iphone:    1    1    1    1    1    1\n",
      "Instagram responded with HTTP error \"429 - Too Many Requests\". Please\n",
      "do not run multiple instances of Instaloader in parallel or within\n",
      "short sequence. Also, do not use any Instagram App while Instaloader\n",
      "is running.\n",
      "The request will be retried in 30 minutes, at 20:30.\n",
      "JSON Query to api/v1/users/web_profile_info/?username=itssophiadimartino: 429 Too Many Requests [retrying; skip with ^C]\n",
      "Number of requests within last 10/11/20/22/30/60 minutes grouped by type:\n",
      "                              other:    0    0    0    0    0    1\n",
      " *                           iphone:    1    1    1    1    1    2\n",
      "Instagram responded with HTTP error \"429 - Too Many Requests\". Please\n",
      "do not run multiple instances of Instaloader in parallel or within\n",
      "short sequence. Also, do not use any Instagram App while Instaloader\n",
      "is running.\n",
      "The request will be retried in 30 minutes, at 21:00.\n"
     ]
    },
    {
     "ename": "ConnectionException",
     "evalue": "JSON Query to api/v1/users/web_profile_info/?username=itssophiadimartino: 429 Too Many Requests",
     "output_type": "error",
     "traceback": [
      "\u001B[1;31m---------------------------------------------------------------------------\u001B[0m",
      "\u001B[1;31mTooManyRequestsException\u001B[0m                  Traceback (most recent call last)",
      "File \u001B[1;32m~\\PycharmProjects\\pythonProject6\\venv\\lib\\site-packages\\instaloader\\instaloadercontext.py:349\u001B[0m, in \u001B[0;36mInstaloaderContext.get_json\u001B[1;34m(self, path, params, host, session, _attempt)\u001B[0m\n\u001B[0;32m    348\u001B[0m \u001B[38;5;28;01mif\u001B[39;00m resp\u001B[38;5;241m.\u001B[39mstatus_code \u001B[38;5;241m==\u001B[39m \u001B[38;5;241m429\u001B[39m:\n\u001B[1;32m--> 349\u001B[0m     \u001B[38;5;28;01mraise\u001B[39;00m TooManyRequestsException(\u001B[38;5;124m\"\u001B[39m\u001B[38;5;124m429 Too Many Requests\u001B[39m\u001B[38;5;124m\"\u001B[39m)\n\u001B[0;32m    350\u001B[0m \u001B[38;5;28;01mif\u001B[39;00m resp\u001B[38;5;241m.\u001B[39mstatus_code \u001B[38;5;241m!=\u001B[39m \u001B[38;5;241m200\u001B[39m:\n",
      "\u001B[1;31mTooManyRequestsException\u001B[0m: 429 Too Many Requests",
      "\nDuring handling of the above exception, another exception occurred:\n",
      "\u001B[1;31mTooManyRequestsException\u001B[0m                  Traceback (most recent call last)",
      "File \u001B[1;32m~\\PycharmProjects\\pythonProject6\\venv\\lib\\site-packages\\instaloader\\instaloadercontext.py:349\u001B[0m, in \u001B[0;36mInstaloaderContext.get_json\u001B[1;34m(self, path, params, host, session, _attempt)\u001B[0m\n\u001B[0;32m    348\u001B[0m \u001B[38;5;28;01mif\u001B[39;00m resp\u001B[38;5;241m.\u001B[39mstatus_code \u001B[38;5;241m==\u001B[39m \u001B[38;5;241m429\u001B[39m:\n\u001B[1;32m--> 349\u001B[0m     \u001B[38;5;28;01mraise\u001B[39;00m TooManyRequestsException(\u001B[38;5;124m\"\u001B[39m\u001B[38;5;124m429 Too Many Requests\u001B[39m\u001B[38;5;124m\"\u001B[39m)\n\u001B[0;32m    350\u001B[0m \u001B[38;5;28;01mif\u001B[39;00m resp\u001B[38;5;241m.\u001B[39mstatus_code \u001B[38;5;241m!=\u001B[39m \u001B[38;5;241m200\u001B[39m:\n",
      "\u001B[1;31mTooManyRequestsException\u001B[0m: 429 Too Many Requests",
      "\nDuring handling of the above exception, another exception occurred:\n",
      "\u001B[1;31mTooManyRequestsException\u001B[0m                  Traceback (most recent call last)",
      "File \u001B[1;32m~\\PycharmProjects\\pythonProject6\\venv\\lib\\site-packages\\instaloader\\instaloadercontext.py:349\u001B[0m, in \u001B[0;36mInstaloaderContext.get_json\u001B[1;34m(self, path, params, host, session, _attempt)\u001B[0m\n\u001B[0;32m    348\u001B[0m \u001B[38;5;28;01mif\u001B[39;00m resp\u001B[38;5;241m.\u001B[39mstatus_code \u001B[38;5;241m==\u001B[39m \u001B[38;5;241m429\u001B[39m:\n\u001B[1;32m--> 349\u001B[0m     \u001B[38;5;28;01mraise\u001B[39;00m TooManyRequestsException(\u001B[38;5;124m\"\u001B[39m\u001B[38;5;124m429 Too Many Requests\u001B[39m\u001B[38;5;124m\"\u001B[39m)\n\u001B[0;32m    350\u001B[0m \u001B[38;5;28;01mif\u001B[39;00m resp\u001B[38;5;241m.\u001B[39mstatus_code \u001B[38;5;241m!=\u001B[39m \u001B[38;5;241m200\u001B[39m:\n",
      "\u001B[1;31mTooManyRequestsException\u001B[0m: 429 Too Many Requests",
      "\nThe above exception was the direct cause of the following exception:\n",
      "\u001B[1;31mConnectionException\u001B[0m                       Traceback (most recent call last)",
      "Input \u001B[1;32mIn [5]\u001B[0m, in \u001B[0;36m<cell line: 8>\u001B[1;34m()\u001B[0m\n\u001B[0;32m     20\u001B[0m link \u001B[38;5;241m=\u001B[39m \u001B[38;5;124m'\u001B[39m\u001B[38;5;124mhttps://www.instagram.com/\u001B[39m\u001B[38;5;124m'\u001B[39m\u001B[38;5;241m+\u001B[39muser\u001B[38;5;241m+\u001B[39m\u001B[38;5;124m'\u001B[39m\u001B[38;5;124m/\u001B[39m\u001B[38;5;124m'\u001B[39m\n\u001B[0;32m     21\u001B[0m requests\u001B[38;5;241m.\u001B[39mget(link, headers \u001B[38;5;241m=\u001B[39m {\u001B[38;5;124m'\u001B[39m\u001B[38;5;124mUser-agent\u001B[39m\u001B[38;5;124m'\u001B[39m: \u001B[38;5;124m'\u001B[39m\u001B[38;5;124myour bot 0.1\u001B[39m\u001B[38;5;124m'\u001B[39m})\n\u001B[1;32m---> 22\u001B[0m profile \u001B[38;5;241m=\u001B[39m \u001B[43minstaloader\u001B[49m\u001B[38;5;241;43m.\u001B[39;49m\u001B[43mProfile\u001B[49m\u001B[38;5;241;43m.\u001B[39;49m\u001B[43mfrom_username\u001B[49m\u001B[43m(\u001B[49m\u001B[43mL\u001B[49m\u001B[38;5;241;43m.\u001B[39;49m\u001B[43mcontext\u001B[49m\u001B[43m,\u001B[49m\u001B[43m \u001B[49m\u001B[43muser\u001B[49m\u001B[43m)\u001B[49m\n\u001B[0;32m     23\u001B[0m private \u001B[38;5;241m=\u001B[39m profile\u001B[38;5;241m.\u001B[39mis_private\n\u001B[0;32m     24\u001B[0m \u001B[38;5;28mprint\u001B[39m(private)\n",
      "File \u001B[1;32m~\\PycharmProjects\\pythonProject6\\venv\\lib\\site-packages\\instaloader\\structures.py:698\u001B[0m, in \u001B[0;36mProfile.from_username\u001B[1;34m(cls, context, username)\u001B[0m\n\u001B[0;32m    696\u001B[0m \u001B[38;5;66;03m# pylint:disable=protected-access\u001B[39;00m\n\u001B[0;32m    697\u001B[0m profile \u001B[38;5;241m=\u001B[39m \u001B[38;5;28mcls\u001B[39m(context, {\u001B[38;5;124m'\u001B[39m\u001B[38;5;124musername\u001B[39m\u001B[38;5;124m'\u001B[39m: username\u001B[38;5;241m.\u001B[39mlower()})\n\u001B[1;32m--> 698\u001B[0m \u001B[43mprofile\u001B[49m\u001B[38;5;241;43m.\u001B[39;49m\u001B[43m_obtain_metadata\u001B[49m\u001B[43m(\u001B[49m\u001B[43m)\u001B[49m  \u001B[38;5;66;03m# to raise ProfileNotExistsException now in case username is invalid\u001B[39;00m\n\u001B[0;32m    699\u001B[0m \u001B[38;5;28;01mreturn\u001B[39;00m profile\n",
      "File \u001B[1;32m~\\PycharmProjects\\pythonProject6\\venv\\lib\\site-packages\\instaloader\\structures.py:767\u001B[0m, in \u001B[0;36mProfile._obtain_metadata\u001B[1;34m(self)\u001B[0m\n\u001B[0;32m    765\u001B[0m \u001B[38;5;28;01mtry\u001B[39;00m:\n\u001B[0;32m    766\u001B[0m     \u001B[38;5;28;01mif\u001B[39;00m \u001B[38;5;129;01mnot\u001B[39;00m \u001B[38;5;28mself\u001B[39m\u001B[38;5;241m.\u001B[39m_has_full_metadata:\n\u001B[1;32m--> 767\u001B[0m         metadata \u001B[38;5;241m=\u001B[39m \u001B[38;5;28;43mself\u001B[39;49m\u001B[38;5;241;43m.\u001B[39;49m\u001B[43m_context\u001B[49m\u001B[38;5;241;43m.\u001B[39;49m\u001B[43mget_iphone_json\u001B[49m\u001B[43m(\u001B[49m\u001B[38;5;124;43mf\u001B[39;49m\u001B[38;5;124;43m'\u001B[39;49m\u001B[38;5;124;43mapi/v1/users/web_profile_info/?username=\u001B[39;49m\u001B[38;5;132;43;01m{\u001B[39;49;00m\u001B[38;5;28;43mself\u001B[39;49m\u001B[38;5;241;43m.\u001B[39;49m\u001B[43musername\u001B[49m\u001B[38;5;132;43;01m}\u001B[39;49;00m\u001B[38;5;124;43m'\u001B[39;49m\u001B[43m,\u001B[49m\n\u001B[0;32m    768\u001B[0m \u001B[43m                                                 \u001B[49m\u001B[43mparams\u001B[49m\u001B[38;5;241;43m=\u001B[39;49m\u001B[43m{\u001B[49m\u001B[43m}\u001B[49m\u001B[43m)\u001B[49m\n\u001B[0;32m    769\u001B[0m         \u001B[38;5;28;01mif\u001B[39;00m metadata[\u001B[38;5;124m'\u001B[39m\u001B[38;5;124mdata\u001B[39m\u001B[38;5;124m'\u001B[39m][\u001B[38;5;124m'\u001B[39m\u001B[38;5;124muser\u001B[39m\u001B[38;5;124m'\u001B[39m] \u001B[38;5;129;01mis\u001B[39;00m \u001B[38;5;28;01mNone\u001B[39;00m:\n\u001B[0;32m    770\u001B[0m             \u001B[38;5;28;01mraise\u001B[39;00m ProfileNotExistsException(\u001B[38;5;124m'\u001B[39m\u001B[38;5;124mProfile \u001B[39m\u001B[38;5;132;01m{}\u001B[39;00m\u001B[38;5;124m does not exist.\u001B[39m\u001B[38;5;124m'\u001B[39m\u001B[38;5;241m.\u001B[39mformat(\u001B[38;5;28mself\u001B[39m\u001B[38;5;241m.\u001B[39musername))\n",
      "File \u001B[1;32m~\\PycharmProjects\\pythonProject6\\venv\\lib\\site-packages\\instaloader\\instaloadercontext.py:488\u001B[0m, in \u001B[0;36mInstaloaderContext.get_iphone_json\u001B[1;34m(self, path, params)\u001B[0m\n\u001B[0;32m    486\u001B[0m \u001B[38;5;28;01mfor\u001B[39;00m header \u001B[38;5;129;01min\u001B[39;00m [\u001B[38;5;124m'\u001B[39m\u001B[38;5;124mHost\u001B[39m\u001B[38;5;124m'\u001B[39m, \u001B[38;5;124m'\u001B[39m\u001B[38;5;124mOrigin\u001B[39m\u001B[38;5;124m'\u001B[39m, \u001B[38;5;124m'\u001B[39m\u001B[38;5;124mX-Instagram-AJAX\u001B[39m\u001B[38;5;124m'\u001B[39m, \u001B[38;5;124m'\u001B[39m\u001B[38;5;124mX-Requested-With\u001B[39m\u001B[38;5;124m'\u001B[39m]:\n\u001B[0;32m    487\u001B[0m     tempsession\u001B[38;5;241m.\u001B[39mheaders\u001B[38;5;241m.\u001B[39mpop(header, \u001B[38;5;28;01mNone\u001B[39;00m)\n\u001B[1;32m--> 488\u001B[0m \u001B[38;5;28;01mreturn\u001B[39;00m \u001B[38;5;28;43mself\u001B[39;49m\u001B[38;5;241;43m.\u001B[39;49m\u001B[43mget_json\u001B[49m\u001B[43m(\u001B[49m\u001B[43mpath\u001B[49m\u001B[43m,\u001B[49m\u001B[43m \u001B[49m\u001B[43mparams\u001B[49m\u001B[43m,\u001B[49m\u001B[43m \u001B[49m\u001B[38;5;124;43m'\u001B[39;49m\u001B[38;5;124;43mi.instagram.com\u001B[39;49m\u001B[38;5;124;43m'\u001B[39;49m\u001B[43m,\u001B[49m\u001B[43m \u001B[49m\u001B[43mtempsession\u001B[49m\u001B[43m)\u001B[49m\n",
      "File \u001B[1;32m~\\PycharmProjects\\pythonProject6\\venv\\lib\\site-packages\\instaloader\\instaloadercontext.py:394\u001B[0m, in \u001B[0;36mInstaloaderContext.get_json\u001B[1;34m(self, path, params, host, session, _attempt)\u001B[0m\n\u001B[0;32m    392\u001B[0m         \u001B[38;5;28;01mif\u001B[39;00m is_other_query:\n\u001B[0;32m    393\u001B[0m             \u001B[38;5;28mself\u001B[39m\u001B[38;5;241m.\u001B[39m_rate_controller\u001B[38;5;241m.\u001B[39mhandle_429(\u001B[38;5;124m'\u001B[39m\u001B[38;5;124mother\u001B[39m\u001B[38;5;124m'\u001B[39m)\n\u001B[1;32m--> 394\u001B[0m     \u001B[38;5;28;01mreturn\u001B[39;00m \u001B[38;5;28;43mself\u001B[39;49m\u001B[38;5;241;43m.\u001B[39;49m\u001B[43mget_json\u001B[49m\u001B[43m(\u001B[49m\u001B[43mpath\u001B[49m\u001B[38;5;241;43m=\u001B[39;49m\u001B[43mpath\u001B[49m\u001B[43m,\u001B[49m\u001B[43m \u001B[49m\u001B[43mparams\u001B[49m\u001B[38;5;241;43m=\u001B[39;49m\u001B[43mparams\u001B[49m\u001B[43m,\u001B[49m\u001B[43m \u001B[49m\u001B[43mhost\u001B[49m\u001B[38;5;241;43m=\u001B[39;49m\u001B[43mhost\u001B[49m\u001B[43m,\u001B[49m\u001B[43m \u001B[49m\u001B[43msession\u001B[49m\u001B[38;5;241;43m=\u001B[39;49m\u001B[43msess\u001B[49m\u001B[43m,\u001B[49m\u001B[43m \u001B[49m\u001B[43m_attempt\u001B[49m\u001B[38;5;241;43m=\u001B[39;49m\u001B[43m_attempt\u001B[49m\u001B[43m \u001B[49m\u001B[38;5;241;43m+\u001B[39;49m\u001B[43m \u001B[49m\u001B[38;5;241;43m1\u001B[39;49m\u001B[43m)\u001B[49m\n\u001B[0;32m    395\u001B[0m \u001B[38;5;28;01mexcept\u001B[39;00m \u001B[38;5;167;01mKeyboardInterrupt\u001B[39;00m:\n\u001B[0;32m    396\u001B[0m     \u001B[38;5;28mself\u001B[39m\u001B[38;5;241m.\u001B[39merror(\u001B[38;5;124m\"\u001B[39m\u001B[38;5;124m[skipped by user]\u001B[39m\u001B[38;5;124m\"\u001B[39m, repeat_at_end\u001B[38;5;241m=\u001B[39m\u001B[38;5;28;01mFalse\u001B[39;00m)\n",
      "File \u001B[1;32m~\\PycharmProjects\\pythonProject6\\venv\\lib\\site-packages\\instaloader\\instaloadercontext.py:394\u001B[0m, in \u001B[0;36mInstaloaderContext.get_json\u001B[1;34m(self, path, params, host, session, _attempt)\u001B[0m\n\u001B[0;32m    392\u001B[0m         \u001B[38;5;28;01mif\u001B[39;00m is_other_query:\n\u001B[0;32m    393\u001B[0m             \u001B[38;5;28mself\u001B[39m\u001B[38;5;241m.\u001B[39m_rate_controller\u001B[38;5;241m.\u001B[39mhandle_429(\u001B[38;5;124m'\u001B[39m\u001B[38;5;124mother\u001B[39m\u001B[38;5;124m'\u001B[39m)\n\u001B[1;32m--> 394\u001B[0m     \u001B[38;5;28;01mreturn\u001B[39;00m \u001B[38;5;28;43mself\u001B[39;49m\u001B[38;5;241;43m.\u001B[39;49m\u001B[43mget_json\u001B[49m\u001B[43m(\u001B[49m\u001B[43mpath\u001B[49m\u001B[38;5;241;43m=\u001B[39;49m\u001B[43mpath\u001B[49m\u001B[43m,\u001B[49m\u001B[43m \u001B[49m\u001B[43mparams\u001B[49m\u001B[38;5;241;43m=\u001B[39;49m\u001B[43mparams\u001B[49m\u001B[43m,\u001B[49m\u001B[43m \u001B[49m\u001B[43mhost\u001B[49m\u001B[38;5;241;43m=\u001B[39;49m\u001B[43mhost\u001B[49m\u001B[43m,\u001B[49m\u001B[43m \u001B[49m\u001B[43msession\u001B[49m\u001B[38;5;241;43m=\u001B[39;49m\u001B[43msess\u001B[49m\u001B[43m,\u001B[49m\u001B[43m \u001B[49m\u001B[43m_attempt\u001B[49m\u001B[38;5;241;43m=\u001B[39;49m\u001B[43m_attempt\u001B[49m\u001B[43m \u001B[49m\u001B[38;5;241;43m+\u001B[39;49m\u001B[43m \u001B[49m\u001B[38;5;241;43m1\u001B[39;49m\u001B[43m)\u001B[49m\n\u001B[0;32m    395\u001B[0m \u001B[38;5;28;01mexcept\u001B[39;00m \u001B[38;5;167;01mKeyboardInterrupt\u001B[39;00m:\n\u001B[0;32m    396\u001B[0m     \u001B[38;5;28mself\u001B[39m\u001B[38;5;241m.\u001B[39merror(\u001B[38;5;124m\"\u001B[39m\u001B[38;5;124m[skipped by user]\u001B[39m\u001B[38;5;124m\"\u001B[39m, repeat_at_end\u001B[38;5;241m=\u001B[39m\u001B[38;5;28;01mFalse\u001B[39;00m)\n",
      "File \u001B[1;32m~\\PycharmProjects\\pythonProject6\\venv\\lib\\site-packages\\instaloader\\instaloadercontext.py:384\u001B[0m, in \u001B[0;36mInstaloaderContext.get_json\u001B[1;34m(self, path, params, host, session, _attempt)\u001B[0m\n\u001B[0;32m    382\u001B[0m         \u001B[38;5;28;01mraise\u001B[39;00m QueryReturnedNotFoundException(error_string) \u001B[38;5;28;01mfrom\u001B[39;00m \u001B[38;5;21;01merr\u001B[39;00m\n\u001B[0;32m    383\u001B[0m     \u001B[38;5;28;01melse\u001B[39;00m:\n\u001B[1;32m--> 384\u001B[0m         \u001B[38;5;28;01mraise\u001B[39;00m ConnectionException(error_string) \u001B[38;5;28;01mfrom\u001B[39;00m \u001B[38;5;21;01merr\u001B[39;00m\n\u001B[0;32m    385\u001B[0m \u001B[38;5;28mself\u001B[39m\u001B[38;5;241m.\u001B[39merror(error_string \u001B[38;5;241m+\u001B[39m \u001B[38;5;124m\"\u001B[39m\u001B[38;5;124m [retrying; skip with ^C]\u001B[39m\u001B[38;5;124m\"\u001B[39m, repeat_at_end\u001B[38;5;241m=\u001B[39m\u001B[38;5;28;01mFalse\u001B[39;00m)\n\u001B[0;32m    386\u001B[0m \u001B[38;5;28;01mtry\u001B[39;00m:\n",
      "\u001B[1;31mConnectionException\u001B[0m: JSON Query to api/v1/users/web_profile_info/?username=itssophiadimartino: 429 Too Many Requests"
     ]
    }
   ],
   "source": [
    "file = open(\"pepain101_followings.txt_followers.txt\", \"r\")\n",
    "\n",
    "out_list = list()\n",
    "\n",
    "date_since = datetime(2020, 1, 1)\n",
    "i = 0\n",
    "start = time.time()\n",
    "for user in file:\n",
    "    if i == 50:\n",
    "        i = 0\n",
    "        end = time.time()\n",
    "        if end - start < 3600:\n",
    "            time.sleep(3600 - (end - start))\n",
    "    dictionary_posts_date = dict()\n",
    "\n",
    "    user = user.rstrip()\n",
    "    print(user)\n",
    "\n",
    "    # try:\n",
    "    link = 'https://www.instagram.com/'+user+'/'\n",
    "    requests.get(link, headers = {'User-agent': 'your bot 0.1'})\n",
    "    profile = instaloader.Profile.from_username(L.context, user)\n",
    "    private = profile.is_private\n",
    "    print(private)\n",
    "\n",
    "    bio = profile.biography\n",
    "    print(bio)\n",
    "\n",
    "    # returns an integer representing number of posts\n",
    "    posts = profile.get_posts()\n",
    "\n",
    "    SINCE = datetime(2022, 6, 16)\n",
    "    UNTIL = datetime(2020, 1, 1)\n",
    "\n",
    "    for post in takewhile(lambda p: p.date > UNTIL, dropwhile(lambda p: p.date > SINCE, posts)):\n",
    "        if post.date > date_since:\n",
    "            dictionary_posts_date['date'] = True\n",
    "            break\n",
    "        else:\n",
    "            dictionary_posts_date['date'] = False\n",
    "            break\n",
    "\n",
    "\n",
    "\n",
    "    final = {\n",
    "        'user': user,\n",
    "        'privacy': private,\n",
    "        'posts': dictionary_posts_date,\n",
    "        'bio': bio\n",
    "    }\n",
    "    final = json.dumps(final)\n",
    "    out_list.append(final)\n",
    "\n",
    "    # except:\n",
    "    #     print('whoops')\n",
    "    #     pass\n",
    "    i += 1\n",
    "print(out_list)\n",
    "\n",
    "with open('json.txt', 'w', encoding='UTF-8') as out_file:\n",
    "    for elem in out_list:\n",
    "        out_file.write(str(elem) + '\\n')"
   ],
   "metadata": {
    "collapsed": false,
    "pycharm": {
     "name": "#%%\n"
    }
   }
  },
  {
   "cell_type": "code",
   "execution_count": null,
   "outputs": [],
   "source": [],
   "metadata": {
    "collapsed": false,
    "pycharm": {
     "name": "#%%\n"
    }
   }
  },
  {
   "cell_type": "code",
   "execution_count": null,
   "outputs": [],
   "source": [],
   "metadata": {
    "collapsed": false,
    "pycharm": {
     "name": "#%%\n"
    }
   }
  }
 ],
 "metadata": {
  "kernelspec": {
   "display_name": "Python 3",
   "language": "python",
   "name": "python3"
  },
  "language_info": {
   "codemirror_mode": {
    "name": "ipython",
    "version": 2
   },
   "file_extension": ".py",
   "mimetype": "text/x-python",
   "name": "python",
   "nbconvert_exporter": "python",
   "pygments_lexer": "ipython2",
   "version": "2.7.6"
  }
 },
 "nbformat": 4,
 "nbformat_minor": 0
}