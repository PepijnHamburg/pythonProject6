{
 "cells": [
  {
   "cell_type": "code",
   "execution_count": 2,
   "metadata": {
    "collapsed": true,
    "pycharm": {
     "name": "#%%\n"
    }
   },
   "outputs": [],
   "source": [
    "import instaloader\n",
    "import datetime\n",
    "import pandas as pd\n",
    "import json\n",
    "from datetime import datetime\n",
    "from datetime import date\n",
    "from itertools import dropwhile, takewhile"
   ]
  },
  {
   "cell_type": "code",
   "execution_count": 3,
   "outputs": [],
   "source": [
    "file = open(\"pepain101_followings.txt_followers.txt\", \"r\")"
   ],
   "metadata": {
    "collapsed": false,
    "pycharm": {
     "name": "#%%\n"
    }
   }
  },
  {
   "cell_type": "code",
   "execution_count": 4,
   "outputs": [
    {
     "name": "stdout",
     "output_type": "stream",
     "text": [
      "<_io.TextIOWrapper name='pepain101_followings.txt_followers.txt' mode='r' encoding='cp1252'>\n"
     ]
    }
   ],
   "source": [
    "print(file)"
   ],
   "metadata": {
    "collapsed": false,
    "pycharm": {
     "name": "#%%\n"
    }
   }
  },
  {
   "cell_type": "code",
   "execution_count": 5,
   "outputs": [],
   "source": [
    "# Get instance\n",
    "l = instaloader.Instaloader()\n",
    "\n",
    "# Login using the credentials\n",
    "# l.login('pepain101', 'Espresso!')\n",
    "l.login('pepain101', 'Espresso!')\n",
    "\n",
    "profile = instaloader.Profile.from_username(l.context, \"pepain101\")"
   ],
   "metadata": {
    "collapsed": false,
    "pycharm": {
     "name": "#%%\n"
    }
   }
  },
  {
   "cell_type": "code",
   "execution_count": null,
   "outputs": [
    {
     "name": "stdout",
     "output_type": "stream",
     "text": [
      "success\n",
      "itssophiadimartino\n",
      "False\n",
      "\n",
      "olivervdberg\n",
      "True\n",
      "\n",
      "alessandrawiezer\n",
      "False\n",
      "IT&Business student\n",
      "Salve Mundi board VI\n",
      "Tis altijd feest🎉\n",
      "SC: Alessandraaaxx\n",
      "Last man standing\n",
      "leniek_maas\n",
      "True\n",
      "TU/e bcs\n",
      "miacollinssss\n",
      "True\n",
      "\n",
      "python.hub\n",
      "False\n",
      "Need help in Project?🤔\n",
      "🎯•We just do everytype of projects!\n",
      "📩• DM  for Project Help\n",
      "📈 DM for Promotions\n",
      "👇 Link in Bio 👇\n",
      "codehub.py\n",
      "False\n",
      "ARE U A  PROGRAMMER 👩‍💻\n",
      "THEN UR IN RIGHT PLACE WHERE U WILL LEARN😍..THIS PAGES IS CODED IN PYTHON🗂️ ..COOL PROGRAMMING 👇PROJECTS\n",
      "programmer_hub3\n",
      "False\n",
      "Daily #python content\n",
      "Programming guide and tips\n",
      "FOLLOW THE PAGE TO LEARN PYTHON FOR FREE...\n",
      "Dm for 💸💰paid promotion\n",
      "tastedbytish\n",
      "False\n",
      "@amaraletitia ‘s food diary 😋\n",
      "part time student | part time foodie\n",
      "#tisheatsjkt - jkt, id | #tisheatsnl - ehv, nl\n",
      "#cookedbytish - homemade endeavors\n",
      "stinkyiwo\n",
      "True\n",
      "\n",
      "pattern_conveyance_weekend\n",
      "False\n",
      "During this weekend, the Board and Candidate Board of @dsapattern do fun teambuilding activities, but we also discuss serious stuff 🤓\n",
      "hubble_community_cafe\n",
      "False\n",
      "The sparkling living room of the TU/e campus. Get your daily dinner dishes & more to go: we're open for takeaway ☕🥡🍜\n",
      "kai.xcf\n",
      "False\n",
      "\n",
      "joachim_bobowski\n",
      "False\n",
      "TU/e | Netherlands\n",
      "kai.cerber\n",
      "True\n",
      "Godzilla\n",
      "_francoisboogers\n",
      "True\n",
      "\n",
      "bentosuzuki\n",
      "True\n",
      "🇳🇱 tue mech\n",
      "Yes, like the car.\n",
      "maxnyh\n",
      "False\n",
      "\n",
      "esr.theta\n",
      "False\n",
      "Eindhovense Studenten Roeivereniging sinds 1975\n",
      "x.biancy.x\n",
      "True\n",
      "\n",
      "hania.broszczak\n",
      "True\n",
      "🌿\n",
      "freshiecomm\n",
      "False\n",
      "your mom's favorite committee 👶\n",
      "elanobeer\n",
      "True\n",
      "Data Science Student TUe 🙃\n",
      "michelh00\n",
      "True\n",
      "\n",
      "matt.strength\n",
      "False\n",
      "from the Netherlands 🇳🇱\n",
      "MSc Data Science & AI @ TU Eindhoven (ESKV Odin)\n",
      "530 @ 81\n",
      "S/B/D 175/145/215 (kgs) 🏋️‍♂️\n",
      "iwko_godzwon\n",
      "False\n",
      "\n",
      "malailailailai\n",
      "True\n",
      "tu/e ‘24\n",
      "🩻\n",
      "daansteenhof\n",
      "True\n",
      "\n",
      "norabouwman\n",
      "True\n",
      "\n",
      "daviddietzen\n",
      "True\n",
      "Rede was wahr ist, trinke was klar ist, und guck vorm Kacken ob Klopapier da ist\n",
      "rick_vleeuw\n",
      "True\n",
      ".\n",
      "nielsnb\n",
      "False\n",
      "\n",
      "muziekmeningen\n",
      "False\n",
      "⚠️⚠️⚠️\n",
      "autovanbrakel\n",
      "False\n",
      "\n",
      "loekfleijsman\n"
     ]
    },
    {
     "name": "stderr",
     "output_type": "stream",
     "text": [
      "JSON Query to api/v1/users/web_profile_info/?username=loekfleijsman: 429 Too Many Requests [retrying; skip with ^C]\n",
      "Number of requests within last 10/11/20/22/30/60 minutes grouped by type:\n",
      "                              other:    1    1    1    1    1    1\n",
      " *                           iphone:   36   36   36   36   36   36\n",
      "Instagram responded with HTTP error \"429 - Too Many Requests\". Please\n",
      "do not run multiple instances of Instaloader in parallel or within\n",
      "short sequence. Also, do not use any Instagram App while Instaloader\n",
      "is running.\n",
      "The request will be retried in 29 minutes, at 09:34.\n"
     ]
    }
   ],
   "source": [
    "file = open(\"pepain101_followings.txt_followers.txt\", \"r\")\n",
    "\n",
    "out_list = list()\n",
    "\n",
    "date_since = datetime(2020, 1, 1)\n",
    "\n",
    "print('success')\n",
    "for user in file:\n",
    "\n",
    "    dictionary_posts_date = dict()\n",
    "\n",
    "    user = user.rstrip()\n",
    "    print(user)\n",
    "    try:\n",
    "        profile = instaloader.Profile.from_username(l.context, user)\n",
    "        private = profile.is_private\n",
    "        print(private)\n",
    "\n",
    "        bio = profile.biography\n",
    "        print(bio)\n",
    "\n",
    "        # returns an integer representing number of posts\n",
    "        posts = profile.get_posts()\n",
    "\n",
    "        SINCE = datetime(2022, 6, 16)\n",
    "        UNTIL = datetime(2020, 1, 1)\n",
    "\n",
    "        for post in takewhile(lambda p: p.date > UNTIL, dropwhile(lambda p: p.date > SINCE, posts)):\n",
    "            if post.date > date_since:\n",
    "                dictionary_posts_date['date'] = True\n",
    "                break\n",
    "            else:\n",
    "                dictionary_posts_date['date'] = False\n",
    "                break\n",
    "\n",
    "\n",
    "\n",
    "        final = {\n",
    "            'user': user,\n",
    "            'privacy': private,\n",
    "            'posts': dictionary_posts_date,\n",
    "            'bio': bio\n",
    "        }\n",
    "        final = json.dumps(final)\n",
    "        out_list.append(final)\n",
    "\n",
    "    except:\n",
    "        print('whoops')\n",
    "        pass\n",
    "print(out_list)\n",
    "\n",
    "with open('json.txt', 'w', encoding='UTF-8') as out_file:\n",
    "    for elem in out_list:\n",
    "        out_file.write(str(elem) + '\\n')"
   ],
   "metadata": {
    "collapsed": false,
    "pycharm": {
     "name": "#%%\n",
     "is_executing": true
    }
   }
  },
  {
   "cell_type": "code",
   "execution_count": null,
   "outputs": [],
   "source": [],
   "metadata": {
    "collapsed": false,
    "pycharm": {
     "name": "#%%\n"
    }
   }
  },
  {
   "cell_type": "code",
   "execution_count": null,
   "outputs": [],
   "source": [],
   "metadata": {
    "collapsed": false,
    "pycharm": {
     "name": "#%%\n"
    }
   }
  }
 ],
 "metadata": {
  "kernelspec": {
   "display_name": "Python 3",
   "language": "python",
   "name": "python3"
  },
  "language_info": {
   "codemirror_mode": {
    "name": "ipython",
    "version": 2
   },
   "file_extension": ".py",
   "mimetype": "text/x-python",
   "name": "python",
   "nbconvert_exporter": "python",
   "pygments_lexer": "ipython2",
   "version": "2.7.6"
  }
 },
 "nbformat": 4,
 "nbformat_minor": 0
}