{
 "cells": [
  {
   "cell_type": "code",
   "execution_count": 2,
   "outputs": [],
   "source": [
    "import instaloader\n",
    "import json"
   ],
   "metadata": {
    "collapsed": false,
    "pycharm": {
     "name": "#%%\n"
    }
   }
  },
  {
   "cell_type": "code",
   "execution_count": 27,
   "outputs": [
    {
     "name": "stdout",
     "output_type": "stream",
     "text": [
      "mrstealyourchill\n"
     ]
    }
   ],
   "source": [
    "bot = instaloader.Instaloader()\n",
    "\n",
    "file = open('pepain101_followings.txt_followers.txt')\n",
    "\n",
    "# private_list = list()\n",
    "# public_list = list()\n",
    "name_list = list()\n",
    "user_list = list()\n",
    "i = 0\n",
    "\n",
    "for i in file:\n",
    "    name_list.append(i.rsplit())\n",
    "for i in name_list:\n",
    "    for j in i:\n",
    "        user_list.append(j)\n",
    "print(user_list[1911])"
   ],
   "metadata": {
    "collapsed": false,
    "pycharm": {
     "name": "#%%\n"
    }
   }
  },
  {
   "cell_type": "code",
   "execution_count": 28,
   "outputs": [
    {
     "name": "stdout",
     "output_type": "stream",
     "text": [
      "waardenloos 1/2066\n",
      "groeistoornis 2/2066\n",
      "autistic.potato.v1 3/2066\n",
      "anouk.engelen 4/2066\n",
      "yung.crippling.depression 5/2066\n",
      "daddyknives 6/2066\n",
      "polarsaurusrex 7/2066\n",
      "itz.tachanka.fam 8/2066\n",
      "jeroen_dams 9/2066\n"
     ]
    },
    {
     "name": "stderr",
     "output_type": "stream",
     "text": [
      "JSON Query to api/v1/users/web_profile_info/?username=jeroen_dams: 429 Too Many Requests [retrying; skip with ^C]\n",
      "Number of requests within last 10/11/20/22/30/60 minutes grouped by type:\n",
      "                              other:    1    1    1    1    1    1\n",
      " *                           iphone:    9    9    9    9    9    9\n",
      "Instagram responded with HTTP error \"429 - Too Many Requests\". Please\n",
      "do not run multiple instances of Instaloader in parallel or within\n",
      "short sequence. Also, do not use any Instagram App while Instaloader\n",
      "is running.\n",
      "The request will be retried in 30 minutes, at 18:32.\n",
      "[skipped by user]\n"
     ]
    },
    {
     "ename": "ConnectionException",
     "evalue": "JSON Query to api/v1/users/web_profile_info/?username=jeroen_dams: 429 Too Many Requests",
     "output_type": "error",
     "traceback": [
      "\u001B[1;31m---------------------------------------------------------------------------\u001B[0m",
      "\u001B[1;31mTooManyRequestsException\u001B[0m                  Traceback (most recent call last)",
      "File \u001B[1;32m~\\PycharmProjects\\pythonProject2\\venv\\lib\\site-packages\\instaloader\\instaloadercontext.py:349\u001B[0m, in \u001B[0;36mInstaloaderContext.get_json\u001B[1;34m(self, path, params, host, session, _attempt)\u001B[0m\n\u001B[0;32m    348\u001B[0m \u001B[38;5;28;01mif\u001B[39;00m resp\u001B[38;5;241m.\u001B[39mstatus_code \u001B[38;5;241m==\u001B[39m \u001B[38;5;241m429\u001B[39m:\n\u001B[1;32m--> 349\u001B[0m     \u001B[38;5;28;01mraise\u001B[39;00m TooManyRequestsException(\u001B[38;5;124m\"\u001B[39m\u001B[38;5;124m429 Too Many Requests\u001B[39m\u001B[38;5;124m\"\u001B[39m)\n\u001B[0;32m    350\u001B[0m \u001B[38;5;28;01mif\u001B[39;00m resp\u001B[38;5;241m.\u001B[39mstatus_code \u001B[38;5;241m!=\u001B[39m \u001B[38;5;241m200\u001B[39m:\n",
      "\u001B[1;31mTooManyRequestsException\u001B[0m: 429 Too Many Requests",
      "\nThe above exception was the direct cause of the following exception:\n",
      "\u001B[1;31mConnectionException\u001B[0m                       Traceback (most recent call last)",
      "Input \u001B[1;32mIn [28]\u001B[0m, in \u001B[0;36m<cell line: 5>\u001B[1;34m()\u001B[0m\n\u001B[0;32m      7\u001B[0m \u001B[38;5;28mprint\u001B[39m(user\u001B[38;5;241m+\u001B[39m\u001B[38;5;124m\"\u001B[39m\u001B[38;5;124m \u001B[39m\u001B[38;5;124m\"\u001B[39m\u001B[38;5;241m+\u001B[39m\u001B[38;5;28mstr\u001B[39m(i)\u001B[38;5;241m+\u001B[39m\u001B[38;5;124m\"\u001B[39m\u001B[38;5;124m/\u001B[39m\u001B[38;5;124m\"\u001B[39m\u001B[38;5;241m+\u001B[39m\u001B[38;5;28mstr\u001B[39m(\u001B[38;5;28mlen\u001B[39m(user_list)))\n\u001B[0;32m      8\u001B[0m \u001B[38;5;66;03m# Load a profile from an Instagram handle\u001B[39;00m\n\u001B[1;32m----> 9\u001B[0m profile \u001B[38;5;241m=\u001B[39m \u001B[43minstaloader\u001B[49m\u001B[38;5;241;43m.\u001B[39;49m\u001B[43mProfile\u001B[49m\u001B[38;5;241;43m.\u001B[39;49m\u001B[43mfrom_username\u001B[49m\u001B[43m(\u001B[49m\u001B[43mbot\u001B[49m\u001B[38;5;241;43m.\u001B[39;49m\u001B[43mcontext\u001B[49m\u001B[43m,\u001B[49m\u001B[43m \u001B[49m\u001B[43muser\u001B[49m\u001B[43m)\u001B[49m\n\u001B[0;32m     10\u001B[0m username \u001B[38;5;241m=\u001B[39m profile\u001B[38;5;241m.\u001B[39musername\n\u001B[0;32m     11\u001B[0m privacy \u001B[38;5;241m=\u001B[39m profile\u001B[38;5;241m.\u001B[39mis_private\n",
      "File \u001B[1;32m~\\PycharmProjects\\pythonProject2\\venv\\lib\\site-packages\\instaloader\\structures.py:698\u001B[0m, in \u001B[0;36mProfile.from_username\u001B[1;34m(cls, context, username)\u001B[0m\n\u001B[0;32m    696\u001B[0m \u001B[38;5;66;03m# pylint:disable=protected-access\u001B[39;00m\n\u001B[0;32m    697\u001B[0m profile \u001B[38;5;241m=\u001B[39m \u001B[38;5;28mcls\u001B[39m(context, {\u001B[38;5;124m'\u001B[39m\u001B[38;5;124musername\u001B[39m\u001B[38;5;124m'\u001B[39m: username\u001B[38;5;241m.\u001B[39mlower()})\n\u001B[1;32m--> 698\u001B[0m \u001B[43mprofile\u001B[49m\u001B[38;5;241;43m.\u001B[39;49m\u001B[43m_obtain_metadata\u001B[49m\u001B[43m(\u001B[49m\u001B[43m)\u001B[49m  \u001B[38;5;66;03m# to raise ProfileNotExistsException now in case username is invalid\u001B[39;00m\n\u001B[0;32m    699\u001B[0m \u001B[38;5;28;01mreturn\u001B[39;00m profile\n",
      "File \u001B[1;32m~\\PycharmProjects\\pythonProject2\\venv\\lib\\site-packages\\instaloader\\structures.py:767\u001B[0m, in \u001B[0;36mProfile._obtain_metadata\u001B[1;34m(self)\u001B[0m\n\u001B[0;32m    765\u001B[0m \u001B[38;5;28;01mtry\u001B[39;00m:\n\u001B[0;32m    766\u001B[0m     \u001B[38;5;28;01mif\u001B[39;00m \u001B[38;5;129;01mnot\u001B[39;00m \u001B[38;5;28mself\u001B[39m\u001B[38;5;241m.\u001B[39m_has_full_metadata:\n\u001B[1;32m--> 767\u001B[0m         metadata \u001B[38;5;241m=\u001B[39m \u001B[38;5;28;43mself\u001B[39;49m\u001B[38;5;241;43m.\u001B[39;49m\u001B[43m_context\u001B[49m\u001B[38;5;241;43m.\u001B[39;49m\u001B[43mget_iphone_json\u001B[49m\u001B[43m(\u001B[49m\u001B[38;5;124;43mf\u001B[39;49m\u001B[38;5;124;43m'\u001B[39;49m\u001B[38;5;124;43mapi/v1/users/web_profile_info/?username=\u001B[39;49m\u001B[38;5;132;43;01m{\u001B[39;49;00m\u001B[38;5;28;43mself\u001B[39;49m\u001B[38;5;241;43m.\u001B[39;49m\u001B[43musername\u001B[49m\u001B[38;5;132;43;01m}\u001B[39;49;00m\u001B[38;5;124;43m'\u001B[39;49m\u001B[43m,\u001B[49m\n\u001B[0;32m    768\u001B[0m \u001B[43m                                                 \u001B[49m\u001B[43mparams\u001B[49m\u001B[38;5;241;43m=\u001B[39;49m\u001B[43m{\u001B[49m\u001B[43m}\u001B[49m\u001B[43m)\u001B[49m\n\u001B[0;32m    769\u001B[0m         \u001B[38;5;28;01mif\u001B[39;00m metadata[\u001B[38;5;124m'\u001B[39m\u001B[38;5;124mdata\u001B[39m\u001B[38;5;124m'\u001B[39m][\u001B[38;5;124m'\u001B[39m\u001B[38;5;124muser\u001B[39m\u001B[38;5;124m'\u001B[39m] \u001B[38;5;129;01mis\u001B[39;00m \u001B[38;5;28;01mNone\u001B[39;00m:\n\u001B[0;32m    770\u001B[0m             \u001B[38;5;28;01mraise\u001B[39;00m ProfileNotExistsException(\u001B[38;5;124m'\u001B[39m\u001B[38;5;124mProfile \u001B[39m\u001B[38;5;132;01m{}\u001B[39;00m\u001B[38;5;124m does not exist.\u001B[39m\u001B[38;5;124m'\u001B[39m\u001B[38;5;241m.\u001B[39mformat(\u001B[38;5;28mself\u001B[39m\u001B[38;5;241m.\u001B[39musername))\n",
      "File \u001B[1;32m~\\PycharmProjects\\pythonProject2\\venv\\lib\\site-packages\\instaloader\\instaloadercontext.py:488\u001B[0m, in \u001B[0;36mInstaloaderContext.get_iphone_json\u001B[1;34m(self, path, params)\u001B[0m\n\u001B[0;32m    486\u001B[0m \u001B[38;5;28;01mfor\u001B[39;00m header \u001B[38;5;129;01min\u001B[39;00m [\u001B[38;5;124m'\u001B[39m\u001B[38;5;124mHost\u001B[39m\u001B[38;5;124m'\u001B[39m, \u001B[38;5;124m'\u001B[39m\u001B[38;5;124mOrigin\u001B[39m\u001B[38;5;124m'\u001B[39m, \u001B[38;5;124m'\u001B[39m\u001B[38;5;124mX-Instagram-AJAX\u001B[39m\u001B[38;5;124m'\u001B[39m, \u001B[38;5;124m'\u001B[39m\u001B[38;5;124mX-Requested-With\u001B[39m\u001B[38;5;124m'\u001B[39m]:\n\u001B[0;32m    487\u001B[0m     tempsession\u001B[38;5;241m.\u001B[39mheaders\u001B[38;5;241m.\u001B[39mpop(header, \u001B[38;5;28;01mNone\u001B[39;00m)\n\u001B[1;32m--> 488\u001B[0m \u001B[38;5;28;01mreturn\u001B[39;00m \u001B[38;5;28;43mself\u001B[39;49m\u001B[38;5;241;43m.\u001B[39;49m\u001B[43mget_json\u001B[49m\u001B[43m(\u001B[49m\u001B[43mpath\u001B[49m\u001B[43m,\u001B[49m\u001B[43m \u001B[49m\u001B[43mparams\u001B[49m\u001B[43m,\u001B[49m\u001B[43m \u001B[49m\u001B[38;5;124;43m'\u001B[39;49m\u001B[38;5;124;43mi.instagram.com\u001B[39;49m\u001B[38;5;124;43m'\u001B[39;49m\u001B[43m,\u001B[49m\u001B[43m \u001B[49m\u001B[43mtempsession\u001B[49m\u001B[43m)\u001B[49m\n",
      "File \u001B[1;32m~\\PycharmProjects\\pythonProject2\\venv\\lib\\site-packages\\instaloader\\instaloadercontext.py:397\u001B[0m, in \u001B[0;36mInstaloaderContext.get_json\u001B[1;34m(self, path, params, host, session, _attempt)\u001B[0m\n\u001B[0;32m    395\u001B[0m \u001B[38;5;28;01mexcept\u001B[39;00m \u001B[38;5;167;01mKeyboardInterrupt\u001B[39;00m:\n\u001B[0;32m    396\u001B[0m     \u001B[38;5;28mself\u001B[39m\u001B[38;5;241m.\u001B[39merror(\u001B[38;5;124m\"\u001B[39m\u001B[38;5;124m[skipped by user]\u001B[39m\u001B[38;5;124m\"\u001B[39m, repeat_at_end\u001B[38;5;241m=\u001B[39m\u001B[38;5;28;01mFalse\u001B[39;00m)\n\u001B[1;32m--> 397\u001B[0m     \u001B[38;5;28;01mraise\u001B[39;00m ConnectionException(error_string) \u001B[38;5;28;01mfrom\u001B[39;00m \u001B[38;5;21;01merr\u001B[39;00m\n",
      "\u001B[1;31mConnectionException\u001B[0m: JSON Query to api/v1/users/web_profile_info/?username=jeroen_dams: 429 Too Many Requests"
     ]
    }
   ],
   "source": [
    "private_list = list()\n",
    "public_list = list()\n",
    "i = 0\n",
    "bot.login('cj.oooooh', 'BIGsmokey')\n",
    "for user in user_list[1912:2010]:\n",
    "    i += 1\n",
    "    print(user+\" \"+str(i)+\"/\"+str(len(user_list)))\n",
    "    # Load a profile from an Instagram handle\n",
    "    profile = instaloader.Profile.from_username(bot.context, user)\n",
    "    username = profile.username\n",
    "    privacy = profile.is_private\n",
    "    bio = profile.biography,profile.external_url\n",
    "    final = {\n",
    "        'Username': username,\n",
    "        'Privacy': privacy,\n",
    "        'Bio': bio\n",
    "    }\n",
    "    final = json.dumps(final)\n",
    "    if privacy == False:\n",
    "        private_list.append(final)\n",
    "    elif privacy == True:\n",
    "        public_list.append(final)"
   ],
   "metadata": {
    "collapsed": false,
    "pycharm": {
     "name": "#%%\n"
    }
   }
  },
  {
   "cell_type": "code",
   "execution_count": 17,
   "outputs": [
    {
     "data": {
      "text/plain": "['{\"Username\": \"5star.memess\", \"Privacy\": false, \"Bio\": [\"\\\\u2800\\\\u2800\\\\u2800\\\\u2800\\\\u2800\\\\u2800\\\\u2800\\\\u2800\\\\u2800\\\\u2800\\\\u2800\\\\u2800\\\\u2800\\\\u2800\\\\u2800\\\\u2800\\\\u2800\\\\u2800\\\\u2800\\\\u2800\\\\u2800\\\\u2800\\\\u2800 \\\\ud835\\\\udddb\\\\ud835\\\\udddc\\\\ud835\\\\uddda\\\\ud835\\\\udddb \\\\ud835\\\\udde4\\\\ud835\\\\udde8\\\\ud835\\\\uddd4\\\\ud835\\\\udddf\\\\ud835\\\\udddc\\\\ud835\\\\udde7\\\\ud835\\\\uddec\\\\n\\\\u2022 sfs\\\\n\\\\u2022 meme plug\\\\n\\\\u2022 3+ post daily\\\\n\\\\u2022 going private at 200\\\\n\\\\u2022 10+ post deleted (so leave if offended easily \\\\ud83d\\\\ude24)\", null]}',\n '{\"Username\": \"cringejuicemedia\", \"Privacy\": false, \"Bio\": [\"|| *STRICTLY MEMES* || making people laugh ||\\\\n GOAL: 1K\", null]}',\n '{\"Username\": \"treveonhunt_15\", \"Privacy\": false, \"Bio\": [\"Rip Money\\\\ud83d\\\\ude2d\\\\ud83d\\\\udc94\\\\u2764\\\\ufe0f\\\\u200d\\\\ud83e\\\\ude79\\\\ud83e\\\\udd7a\\\\u2764\\\\ufe0f\\\\u200d\\\\ud83d\\\\udd25\\\\ud83d\\\\ude08\\\\ud83d\\\\ude08\\\\ud83d\\\\ude08\", null]}',\n '{\"Username\": \"memes_of_gwhs\", \"Privacy\": false, \"Bio\": [\"Retired Detective \\\\nOfficial Meme Account for GWHS\", null]}',\n '{\"Username\": \"tiktok_dankmeme\", \"Privacy\": false, \"Bio\": [\"Send me tiktok Maybe i post it\\\\nI Hope you Like this page \\\\ud83d\\\\udda4\\\\ud83d\\\\ude42\\\\nIf u put like to all the post i\\'ll shotout you \\\\ud83d\\\\udc97\\\\ud83d\\\\ude42\", null]}',\n '{\"Username\": \"holocaustxan\", \"Privacy\": false, \"Bio\": [\"If this ain\\\\u2019t it I\\\\u2019m sure as hell you arent\", null]}',\n '{\"Username\": \"dogemallow\", \"Privacy\": false, \"Bio\": [\"\\\\ud83d\\\\udc97 \\\\ud835\\\\udce6\\\\ud835\\\\udcf1\\\\ud835\\\\udcf8\\\\ud835\\\\udcf5\\\\ud835\\\\udcee\\\\ud835\\\\udcfc\\\\ud835\\\\udcf8\\\\ud835\\\\udcf6\\\\ud835\\\\udcee \\\\ud835\\\\udcdc\\\\ud835\\\\udcee\\\\ud835\\\\udcf6\\\\ud835\\\\udcee\\\\ud835\\\\udcfc \\\\ud83d\\\\udc97\\\\n\\\\ud83d\\\\udc96 \\\\ud835\\\\udd46\\\\ud835\\\\udd5f\\\\ud835\\\\udd5d\\\\ud835\\\\udd6a \\\\ud835\\\\udd65\\\\ud835\\\\udd59\\\\ud835\\\\udd56 \\\\ud835\\\\udd53\\\\ud835\\\\udd56\\\\ud835\\\\udd64\\\\ud835\\\\udd65 \\\\ud835\\\\udd68\\\\ud835\\\\udd59\\\\ud835\\\\udd60\\\\ud835\\\\udd5d\\\\ud835\\\\udd56\\\\ud835\\\\udd64\\\\ud835\\\\udd60\\\\ud835\\\\udd5e\\\\ud835\\\\udd56 \\\\ud835\\\\udd60\\\\ud835\\\\udd54\\'\\\\ud835\\\\udd64 \\\\ud83d\\\\udc96\\\\n\\\\ud83d\\\\udc9e \\\\ud835\\\\udd3d\\\\ud835\\\\udd60\\\\ud835\\\\udd5d\\\\ud835\\\\udd5d\\\\ud835\\\\udd60\\\\ud835\\\\udd68 \\\\ud835\\\\udd5a\\\\ud835\\\\udd57 \\\\ud835\\\\udd6a\\\\ud835\\\\udd60\\\\ud835\\\\udd66 \\\\ud835\\\\udd63\\\\ud835\\\\udd56\\\\ud835\\\\udd52\\\\ud835\\\\udd55 \\\\ud835\\\\udd65\\\\ud835\\\\udd59\\\\ud835\\\\udd5a\\\\ud835\\\\udd64 :) \\\\ud83d\\\\udc9e\\\\n\\\\ud83d\\\\udc9d Requests are open \\\\ud83d\\\\udc9d\\\\n.\\\\n\\\\uff21\\\\uff44\\\\uff4d\\\\uff49\\\\uff4e\\\\uff53\\\\n\\\\u25aakz\\\\u00ef \\\\ud83e\\\\udd94\\\\n\\\\u25aa\\\\u00df\\\\u0105b\\\\u0119y \\\\ud83d\\\\udc0c \\\\n\\\\u25aa\\\\u0161qu\\\\u00ee\\\\u0161h\\\\u0177\\\\ud83d\\\\udc25\", null]}',\n '{\"Username\": \"master_memeboi.mp4\", \"Privacy\": false, \"Bio\": [\"Freshest Meme dealer there is.\", \"https://www.co.uk/\"]}',\n '{\"Username\": \"morgan_not_a_freeman_\", \"Privacy\": false, \"Bio\": [\"\\\\ud83e\\\\udda7\", null]}',\n '{\"Username\": \"sexyjoked\", \"Privacy\": false, \"Bio\": [\"\", null]}',\n '{\"Username\": \"21.chromosomes\", \"Privacy\": false, \"Bio\": [\"backup: @21chromosomes | cringe: @21.cringe\\\\nliterally everything is ironic, don\\\\u2019t take me seriously \\\\ndm for credit / post removal\", null]}',\n '{\"Username\": \"wildlifeplanet\", \"Privacy\": false, \"Bio\": [\"We share the beauty of our Planet Earth to raise awareness for wildlife & nature. Since 2014.\\\\nSHOP HERE\\\\ud83d\\\\udc47\", \"https://travelzoid.co/products/portable-neck-fan\"]}',\n '{\"Username\": \"wolveslux\", \"Privacy\": false, \"Bio\": [\"\", null]}',\n '{\"Username\": \"memecarrier69\", \"Privacy\": false, \"Bio\": [\"\\\\ud83d\\\\udc38 Memes\\\\n\\\\ud83d\\\\udccdFollow to see more\", null]}',\n '{\"Username\": \"eline.db\", \"Privacy\": false, \"Bio\": [\"21\\\\nVeldhoven | Nijmegen\\\\nPWPO @ Radboud Universiteit\", null]}',\n '{\"Username\": \"my.memes.are.not.dank\", \"Privacy\": false, \"Bio\": [\"Revived October 2020\\\\nFollow my backup @testtube for more/extras\\\\nfree memes\", null]}',\n '{\"Username\": \"grandayyyyyy\", \"Privacy\": false, \"Bio\": [\"I make memes.\\\\nOriginal content \\\\ud83c\\\\uddf2\\\\ud83c\\\\uddf9\", \"https://youtube.com/grandayy\"]}',\n '{\"Username\": \"lindemare\", \"Privacy\": false, \"Bio\": [\"S.D.\\\\n\\\\u2604\\\\ufe0e. \\\\u2649\\\\ufe0e *. \\\\u22c6\\\\n\\\\u22c6\\\\u00b7\\\\u02da \\\\u0f18 * \\\\ud83d\\\\udd2d\\\\nAstmetic Dog\", null]}',\n '{\"Username\": \"broodjebitcoins\", \"Privacy\": false, \"Bio\": [\"\\\\ud83d\\\\ude80Offici\\\\u00eble instagram van BroodjeBitcoins!\\\\ud83d\\\\ude80\\\\n\\\\ud83d\\\\udd0cDagelijks nieuws/memes over crypto/NFT\\'s!\\\\ud83d\\\\udd0c\\\\n\\\\ud83d\\\\udc47Word lid van de discord community!\\\\ud83d\\\\udc47\", \"https://discord.gg/gvTvDf5Xwr\"]}',\n '{\"Username\": \"uitval\", \"Privacy\": false, \"Bio\": [\"leuke plaatjes\", null]}',\n '{\"Username\": \"empireentertainment.nl\", \"Privacy\": false, \"Bio\": [\"\", null]}',\n '{\"Username\": \"stroopnagel\", \"Privacy\": false, \"Bio\": [\"Meest dooie memepage van NL\", null]}',\n '{\"Username\": \"broodjekinker_\", \"Privacy\": false, \"Bio\": [\"memes\\\\nArtiest\\\\ud83d\\\\udc40\\\\ud83c\\\\udfa7\\\\ud83c\\\\udfb6\", null]}',\n '{\"Username\": \"koudewarmte\", \"Privacy\": false, \"Bio\": [\"\\\\ud835\\\\udcff\\\\ud835\\\\udcf8\\\\ud835\\\\udcf5\\\\ud835\\\\udcea\\\\ud835\\\\udcfb\\\\ud835\\\\udcee\", null]}',\n '{\"Username\": \"lars.hsmr\", \"Privacy\": false, \"Bio\": [\"~ 20\\\\n~ Veldhoven\\\\ud83d\\\\udccd\", null]}',\n '{\"Username\": \"newhoreker\", \"Privacy\": false, \"Bio\": [\"yes im from new york | @heyyjaani\", null]}',\n '{\"Username\": \"rightwingism_cl\", \"Privacy\": false, \"Bio\": [\"Admins\\\\n\\\\u25aaPaleoconservative -\\\\ud83d\\\\udd35\\\\n\\\\u25aa\\\\ufe0fHoppean -S\\\\ud83e\\\\udd89\\\\n-\\\\nOpen Discourse Zone \\\\ud83c\\\\udf99\\\\ufe0f\\\\ud83c\\\\udf69\\\\ud83c\\\\udf0e\\\\n-\", null]}',\n '{\"Username\": \"2.718281828459045235360287420\", \"Privacy\": false, \"Bio\": [\"hi i\\\\u2019m tiff :) \\\\u2014 e girl not egirl \\\\ud83d\\\\ude1a \\\\ni also play games + stream: @bbqtiff \\\\ud83d\\\\udc97\\\\u2728\", \"http://hingeadvocatesoftomorrow.com/\"]}',\n '{\"Username\": \"girls_feet_israel_fanpage\", \"Privacy\": false, \"Bio\": [\"Post marital eye contact enthusiast\\\\nFollow new account @meth_clips\", null]}',\n '{\"Username\": \"elonsmoke\", \"Privacy\": false, \"Bio\": [\"\", null]}',\n '{\"Username\": \"sneakermeetups\", \"Privacy\": false, \"Bio\": [\"The Funniest Videos on Instagram! \\\\ud83d\\\\udd25\\\\nDM for promotion/credit/removals \\\\ud83d\\\\udce7\\\\nDo not follow if easily offended \\\\ud83d\\\\udd1e\\\\n@fashionnova \\\\ud83d\\\\udd7a\\\\ud83c\\\\udffd\", \"http://freedfromdesires.com/blowjobsimulator/\"]}',\n '{\"Username\": \"meme.ig\", \"Privacy\": false, \"Bio\": [\"Follow to join the movement \\\\ud83d\\\\udc65\\\\n\\\\ud83d\\\\udce7 hi@meme.media | tele: memeigbiz\", null]}',\n '{\"Username\": \"historical._.meme\", \"Privacy\": false, \"Bio\": [\"Quality over quantity History memes \\\\nBackup/collector account: @historical.militaria.collector\\\\nYouTube channel \\\\ud83d\\\\udd3d\", \"https://www.google.com/search?q=lang%27s+mobile+detailing+mantua\"]}',\n '{\"Username\": \"latinowingism\", \"Privacy\": false, \"Bio\": [\"Latin America\\'s Right Wing\\\\n\\\\ud83c\\\\udde7\\\\ud83c\\\\uddf7\\\\u2022G\\\\u2694\\\\ufe0f// Paleo Conservative\\\\n\\\\ud83c\\\\udde6\\\\ud83c\\\\uddf7\\\\u2022A\\\\u26e8 // Hoppean Libertarian\\\\n\\\\ud83c\\\\udde8\\\\ud83c\\\\uddf4\\\\u2022K\\\\u26a1// Falangist\\\\n\\\\ud83c\\\\uddfb\\\\ud83c\\\\uddea\\\\u2022J\\\\ud83c\\\\udf00// Conservative Liberal\\\\nDiscord\", null]}',\n '{\"Username\": \"fryslanmemelan\", \"Privacy\": false, \"Bio\": [\"Mooiste memes fan; yn; en oer Frysl\\\\u00e2n\", null]}',\n '{\"Username\": \"meme.tsar\", \"Privacy\": false, \"Bio\": [\"\\\\u269c\\\\ufe0f Historical & Political Memes \\\\u269c\\\\ufe0f\\\\n\\\\u269c\\\\ufe0f Building a Meme-Empire follower by follower \\\\u269c\\\\ufe0f\\\\nI support freedom of speech\", null]}',\n '{\"Username\": \"roode.memes\", \"Privacy\": false, \"Bio\": [\"Roode Memes voor Militante Makkers\", \"http://www.derodelap.nl/\"]}',\n '{\"Username\": \"ontariowingism\", \"Privacy\": false, \"Bio\": [\"Admins:\\\\n\\\\u2694\\\\ufe0fJ - Agorist (Founder)\\\\n\\\\ud83d\\\\udd28M - Technocratic Leninist (Founder)\\\\n\\\\ud83c\\\\udf5eF - Libertarian Communist\\\\n\\\\ud83c\\\\udf41N - Neo-Conservative\\\\n\\\\ud83c\\\\udf13P - Centrist\", null]}',\n '{\"Username\": \"worldwar1airsoft\", \"Privacy\": false, \"Bio\": [\"Honoring those who walked the walk \\\\u2694\\\\ufe0f\\\\n\\\\u2720Simulating what it was like 100 years ago\\\\n\\\\u2720Community locations: \\\\ud83c\\\\uddeb\\\\ud83c\\\\uddee\\\\ud83c\\\\uddec\\\\ud83c\\\\udde7\\\\n\\\\u27201-2 posts per day!\", \"https://www.youtube.com/watch?v=OmyBHO1vxWQ\"]}',\n '{\"Username\": \"rightwingism.za\", \"Privacy\": false, \"Bio\": [\"\\\\ud83c\\\\uddff\\\\ud83c\\\\udde6South African Rightwingers\\\\ud83c\\\\uddff\\\\ud83c\\\\udde6\\\\nLibertarian Nationalist -B\\\\u26a1\\\\ufe0f\\\\nIan Smithist -BS\\\\ud83d\\\\udc3e\\\\nImperial Nationalist -R\\\\ud83d\\\\udd2b\\\\nThird Positionist -vdM\\\\ud83c\\\\udccf\\\\nDonut Earth Gang \\\\ud83c\\\\udf69 \\\\ud83c\\\\udf0f\", null]}',\n '{\"Username\": \"catholicwingism\", \"Privacy\": false, \"Bio\": [\"Admins:\\\\nM\\\\ud83d\\\\udc51 ~ Theocratic Distributist \\\\nC\\\\u269c\\\\ufe0f ~ Authoritarian \\\\n-\\\\nOpen Discourse Zone \\\\ud83d\\\\udd0a\\\\n-\", null]}',\n '{\"Username\": \"rightwingism.africa\", \"Privacy\": false, \"Bio\": [\"Admins: \\\\n\\\\ud83c\\\\uddee\\\\ud83c\\\\uddf9 ~ Nationalist\\\\n\\\\ud83c\\\\uddec\\\\ud83c\\\\uddf7 ~ Fascist\\\\n\\\\ud83c\\\\uddea\\\\ud83c\\\\uddf8 ~ Monarchist\\\\n\\\\ud83c\\\\uddea\\\\ud83c\\\\uddf9 ~ Traditionalist\\\\n\\\\ud83c\\\\uddf2\\\\ud83c\\\\udde6 ~ Capitalist\\\\n\\\\ud83c\\\\uddf2\\\\ud83c\\\\uddf1 ~ Rightwing Populist \\\\nAfrican Unity \\\\u270a\\\\ud83c\\\\udfff\\\\ud83c\\\\udf0d\", null]}',\n '{\"Username\": \"jovdonline\", \"Privacy\": false, \"Bio\": [\"De JOVD: voor nu, straks en in de toekomst.\\\\nOntwikkel jezelf, bouw een landelijk netwerk op en maak vrienden voor het leven. Meer info? #LinkInBio\", \"https://linktr.ee/JOVD\"]}',\n '{\"Username\": \"scottishpatterr\", \"Privacy\": false, \"Bio\": [\"The Best of Scottish Humour\\\\n\\\\u26bd\\\\ufe0f - @fitbapatter\", null]}',\n '{\"Username\": \"brothersfrombrooklyn\", \"Privacy\": false, \"Bio\": [\"\\\\ud83c\\\\uddee\\\\ud83c\\\\uddf9 There\\\\u2019s nothing better than being Italian\\\\n\\\\ud83d\\\\udc68\\\\u200d\\\\ud83d\\\\udc69\\\\u200d\\\\ud83d\\\\udc66\\\\u200d\\\\ud83d\\\\udc66 Join the Family & Give Us A Follow\\\\n\\\\ud83e\\\\udd0c\\\\ud83c\\\\udffd Proud ambassador of @hardcoreitalians\\\\n\\\\ud83d\\\\udc47\\\\ud83c\\\\udffc CLICK HERE\", \"https://linktr.ee/brothersfrombrooklyn\"]}',\n '{\"Username\": \"irishcraicc\", \"Privacy\": false, \"Bio\": [\"\", null]}',\n '{\"Username\": \"obscurehistorymemes\", \"Privacy\": false, \"Bio\": [\"Not a meme page\", null]}',\n '{\"Username\": \"doughboy_airsoft\", \"Privacy\": false, \"Bio\": [\"Pacific Northwest Reenacting and Airsoft\", null]}',\n '{\"Username\": \"mla_productions\", \"Privacy\": false, \"Bio\": [\"Your daily dose of bullshit!\\\\ud83d\\\\udd25\\\\ud83e\\\\uddef\\\\n\\\\u1559( \\\\u0361\\\\u25c9 \\\\u035c \\\\u0296 \\\\u0361\\\\u25c9)\\\\u1557\\\\nDM always open for chat or memes\\\\u2764\\\\ufe0f\", null]}',\n '{\"Username\": \"tumorstrijder\", \"Privacy\": false, \"Bio\": [\"Volg me of je bent homo \\\\ud83d\\\\udcaf\\\\nCredits dm \\\\ud83d\\\\udce9\\\\nInzendingen altijd welkom \\\\u2764\\\\ufe0f\", null]}',\n '{\"Username\": \"ww1photos_info\", \"Privacy\": false, \"Bio\": [\"\\\\ud83e\\\\udd40 20-y-o from Denmark \\\\ud83c\\\\udde9\\\\ud83c\\\\uddf0 whose passion is World War 1\\\\n\\\\ud83e\\\\udd40 Keeping history alive since 2018\\\\n\\\\u2b07\\\\ufe0fMy WW1 webshop\\\\u2b07\\\\ufe0f\", \"http://ww1poster.com/clothing\"]}',\n '{\"Username\": \"world_war_history_buffs\", \"Privacy\": false, \"Bio\": [\"\\\\\"A man who doesn\\'t know his past is like a tree without roots\\\\\" \\\\n\\\\ud83d\\\\uddfa\\\\ufe0fPage for History Buffs around the\\\\ud83c\\\\udf0f\\\\n\\\\ud83d\\\\udc4cHISTORY Student \\\\ud83d\\\\ude0e\\\\n  \\\\n\\\\u2757Daily Posts \\\\u2757\", null]}',\n '{\"Username\": \"diversetravel_\", \"Privacy\": false, \"Bio\": [\"\\\\ud83d\\\\udc64 - Independent Map & Infographic Creator\\\\n\\\\ud83d\\\\uddfa\\\\ufe0f - Original Content Posted Daily\\\\n\\\\ud83d\\\\udda8\\\\ufe0f - A2, A3 & A4 Posters: @diversetravel_store\", \"https://www.etsy.com/shop/DiverseTravel\"]}',\n '{\"Username\": \"rossiya.ball\", \"Privacy\": false, \"Bio\": [\"Most posts aren\\'t meant to be taken seriously\\\\n\\\\u201cI speak Russian!\\\\u201d \\\\u201cReally? That\\\\u2019s co-\\\\u201c \\\\u201cCyka Blyat\\\\u201d \\\\u201cOh\\\\u201d \\\\nYes I\\\\u2019m actually russian\\\\nPosts aren\\\\u2019t mine\", \"https://youtu.be/PlVzawPvgfM\"]}',\n '{\"Username\": \"salafi_memri_memes\", \"Privacy\": false, \"Bio\": [\"\", null]}',\n '{\"Username\": \"thefinancialespresso\", \"Privacy\": false, \"Bio\": [\"\\\\u2615\\\\ufe0f Your Espresso shot of Financial Literacy \\\\n\\\\ud83d\\\\udd3aOpportunities \\\\n\\\\ud83d\\\\udd3aConcepts\\\\n\\\\ud83d\\\\udd3aIdeas\\\\n\\\\ud83d\\\\udd3aDIY finance\", \"https://link.morningbrew.com/click/5e81e63a315b0555d1dac4be/aHR0cHM6Ly93d3cubW9ybmluZ2JyZXcuY29tL2RhaWx5L3IvP2tpZD03NWVlOWMwYSZ1dG1fc291cmNlPWVtYWlsXzFyZWZlcnJhbA/5e7e014afbd29775fa3c6722Baeabc4dd\"]}',\n '{\"Username\": \"astrolovesu\", \"Privacy\": false, \"Bio\": [\"Immigrant. Alien. Friendly. Producer. Designer. \\\\ud83d\\\\ude80 \\\\nMgmt: astrolovesu@gmail.com\", null]}',\n '{\"Username\": \"militaryfinder\", \"Privacy\": false, \"Bio\": [\"\\\\ud83c\\\\udde8\\\\ud83c\\\\uddffHledac pokladu s detektorem\\\\n\\\\ud83c\\\\uddfa\\\\ud83c\\\\uddf2Youtuber influencer author metal detectorist\\\\nI do not support any extremist thoughts!\\\\nGoal 100k followers left 89600\", \"https://www.amazon.com/Detecting-between-life-death-Unbelievable-ebook/dp/B07MJZ8BKB\"]}',\n '{\"Username\": \"bram.krikke\", \"Privacy\": false, \"Bio\": [\"\\\\ud83d\\\\udcfb: DJ bij Qmusic\\\\n\\\\u2709\\\\ufe0f: bram@contenticons.com\\\\n\\\\ud83d\\\\udc55 : @boekenclub\\\\nBoekingen: tom@your-agency.nl\", \"https://youtu.be/5yX3-myKiMY\"]}',\n '{\"Username\": \"sir.edward.leigh.irony\", \"Privacy\": false, \"Bio\": [\"Fan account for our favourite Conservative Member of Parliament for Gainsborough. \\\\ud83c\\\\uddec\\\\ud83c\\\\udde7\\\\ud83c\\\\udf33\\\\nTrig point enthusiast\", null]}',\n '{\"Username\": \"antisocialhumor\", \"Privacy\": false, \"Bio\": [\"follow @youngcultureny and listen to their music they r great and kind :)\", \"https://discord.gg/GP5b4f3\"]}',\n '{\"Username\": \"kim.jvg\", \"Privacy\": false, \"Bio\": [\"\\\\ud83c\\\\uddf3\\\\ud83c\\\\uddf1Dutch Swimmer\\\\n\\\\u2650\\\\ufe0f19\\\\n\\\\ud83e\\\\uddecBiomedical Engineering\\\\n\\\\ud83c\\\\udfca\\\\ud83c\\\\udffb\\\\u200d\\\\u2640\\\\ufe0fOC Eindhoven - PSV Zwemmen\\\\n\\\\ud83d\\\\udcachard work doesn\\\\u2019t guarantee succes, but succes isn\\\\u2019t possible without it\", \"http://www.psvzwemmen.nl/\"]}',\n '{\"Username\": \"sonderuur123\", \"Privacy\": false, \"Bio\": [\"\", null]}',\n '{\"Username\": \"huub_artz\", \"Privacy\": false, \"Bio\": [\"U23 cyclist \\\\nTeam Metec-Solarwatt\\\\n20 y.o.\", null]}',\n '{\"Username\": \"offdatmemes\", \"Privacy\": false, \"Bio\": [\"Hit that blue button for fun memes!\\\\n_\\\\nFor business: nick.verschoor.insta@outlook.com\", null]}',\n '{\"Username\": \"mememanmyles\", \"Privacy\": false, \"Bio\": [\"Slightly Above Average \\\\ud83d\\\\udcaf \\\\nPersonal @Mylesawc\", null]}',\n '{\"Username\": \"jezus_wat_slecht\", \"Privacy\": false, \"Bio\": [\"De enige echte\\\\nLink in bio:\", \"https://bit.ly/3rQnQCp\"]}',\n '{\"Username\": \"joyysanderss\", \"Privacy\": false, \"Bio\": [\"\", null]}',\n '{\"Username\": \"what.are.funny.memes\", \"Privacy\": false, \"Bio\": [\"18+ pls \\\\ni tried 2 be funny but people just laughed :(\\\\nPermission from OP on all posts\\\\nMeet us in the welcome highlight :-)\", null]}',\n '{\"Username\": \"autistic.browniez\", \"Privacy\": false, \"Bio\": [\"sub plz\", \"https://youtube.com/channel/UCRZE75F2arA-_nnU51s0Dvw\"]}',\n '{\"Username\": \"madman_macnaughton\", \"Privacy\": false, \"Bio\": [\"Determined to live and to live greatly.\", null]}',\n '{\"Username\": \"dullstaples\", \"Privacy\": false, \"Bio\": [\"\\\\ud835\\\\uddd6\\\\ud835\\\\uddf5\\\\ud835\\\\uddf2\\\\ud835\\\\uddf0\\\\ud835\\\\uddf8 \\\\ud835\\\\uddfc\\\\ud835\\\\ude02\\\\ud835\\\\ude01 \\\\ud835\\\\uddfc\\\\ud835\\\\ude02\\\\ud835\\\\uddff \\\\ud835\\\\udde0\\\\ud835\\\\uddf6\\\\ud835\\\\uddfb\\\\ud835\\\\uddf2\\\\ud835\\\\uddf0\\\\ud835\\\\uddff\\\\ud835\\\\uddee\\\\ud835\\\\uddf3\\\\ud835\\\\ude01 \\\\ud835\\\\ude00\\\\ud835\\\\uddf2\\\\ud835\\\\uddff\\\\ud835\\\\ude03\\\\ud835\\\\uddf2\\\\ud835\\\\uddff!\\\\n\\\\ud835\\\\ude31\\\\ud835\\\\ude2d\\\\ud835\\\\ude22\\\\ud835\\\\ude3a.\\\\ud835\\\\ude25\\\\ud835\\\\ude36\\\\ud835\\\\ude2d\\\\ud835\\\\ude2d\\\\ud835\\\\ude34\\\\ud835\\\\ude35\\\\ud835\\\\ude22\\\\ud835\\\\ude31\\\\ud835\\\\ude2d\\\\ud835\\\\ude26\\\\ud835\\\\ude34.\\\\ud835\\\\ude39\\\\ud835\\\\ude3a\\\\ud835\\\\ude3b\\\\nBedrock and java supported \\\\nFollow the backup: @dullerstaples\", \"https://discord.gg/SD3ZqN9UZm\"]}',\n '{\"Username\": \"very_low_resolution_chungles\", \"Privacy\": false, \"Bio\": [\"\\\\ud83c\\\\udd91\\\\ud83c\\\\udd8e\\\\ud83c\\\\udd8e\\\\ud83c\\\\udd7e\\\\ufe0f\\\\nThis Is a Watermark \\\\ud83d\\\\ude2c\", \"http://www.com/\"]}',\n '{\"Username\": \"mungle.bungus\", \"Privacy\": false, \"Bio\": [\"Mother of 8!\", null]}',\n '{\"Username\": \"funny_meme_manv2\", \"Privacy\": false, \"Bio\": [\"\", null]}',\n '{\"Username\": \"want2die.mp4\", \"Privacy\": false, \"Bio\": [\"Belgium_ball\\\\nI don\\'t make these memes\\\\nLife is soup, I am fork.\\\\n25-06-16\", \"https://youtu.be/dQw4w9WgXcQ\"]}',\n '{\"Username\": \"brokeromeo\", \"Privacy\": false, \"Bio\": [\"\\\\ud83d\\\\udc40 | Its more than memes, its a lifestyle\\\\n\\\\ud83d\\\\udcf8 | Daily funny videos and memes\\\\n\\\\ud83d\\\\udc47 | Follow to join the community \\\\u2b07\\\\ufe0f\", null]}',\n '{\"Username\": \"afwijking\", \"Privacy\": false, \"Bio\": [\"De OG\\\\nIk maak memes in mijn vrije tijd.\\\\n\\\\u200e\\\\u202e@broodjeebola.v2 \\\\u202e@staktjaa\", null]}',\n '{\"Username\": \"epicfunnypage\", \"Privacy\": false, \"Bio\": [\"\\\\u2022 Funny Memes & Videos \\\\ud83e\\\\udd23 @stake \\\\n\\\\u2022 Just follow us because your friend does\\\\nTelegram: @ EpicSales \\\\ud83d\\\\udcf2 @fashionnova\\\\nEmail: epicfunnypage@gmail.com \\\\ud83d\\\\udce7\", null]}',\n '{\"Username\": \"ight\", \"Privacy\": false, \"Bio\": [\"So your friends have been sending you my memes but you still haven\\\\u2019t followed yet? @IGHT \\\\ud83d\\\\ude14 \\\\n@FashionNova\", null]}',\n '{\"Username\": \"comedyposts\", \"Privacy\": false, \"Bio\": [\"\\\\ud83c\\\\udfa5 Comedy Videos & Memes \\\\n\\\\ud83d\\\\udce5 DM for Credit/Removal/Copyright  \\\\n\\\\ud83e\\\\udec2 Follow to Join our Community\", \"https://verifiedtrending.com/collections/all/products/2-in-1-watch-lighter\"]}',\n '{\"Username\": \"hilarrious\", \"Privacy\": false, \"Bio\": [\"Follow if you noticed it\\\\u2019s spelled wrong!\", \"https://click.421.media/CrissCross\"]}',\n '{\"Username\": \"pubertag\", \"Privacy\": false, \"Bio\": [\"\\\\ud83d\\\\udca6 Geinige video\\'s voor Pubers\\\\n\\\\ud83d\\\\udde8Nieuwste nieuws voor jou\\\\ud83d\\\\uddde\\\\n\\\\ud83c\\\\udf25 Geen teringvervelende shoutouts. Ik post wat ik zelf ook leuk vind of waar ik achter sta ;)\", null]}']"
     },
     "execution_count": 17,
     "metadata": {},
     "output_type": "execute_result"
    }
   ],
   "source": [
    "private_list"
   ],
   "metadata": {
    "collapsed": false,
    "pycharm": {
     "name": "#%%\n"
    }
   }
  },
  {
   "cell_type": "code",
   "execution_count": 9,
   "outputs": [
    {
     "ename": "NameError",
     "evalue": "name 'musical' is not defined",
     "output_type": "error",
     "traceback": [
      "\u001B[1;31m---------------------------------------------------------------------------\u001B[0m",
      "\u001B[1;31mNameError\u001B[0m                                 Traceback (most recent call last)",
      "Input \u001B[1;32mIn [9]\u001B[0m, in \u001B[0;36m<cell line: 1>\u001B[1;34m()\u001B[0m\n\u001B[1;32m----> 1\u001B[0m \u001B[43mmusical\u001B[49m\u001B[38;5;241m.\u001B[39mly_floppies\n",
      "\u001B[1;31mNameError\u001B[0m: name 'musical' is not defined"
     ]
    }
   ],
   "source": [
    "musical.ly_floppies"
   ],
   "metadata": {
    "collapsed": false,
    "pycharm": {
     "name": "#%%\n"
    }
   }
  },
  {
   "cell_type": "code",
   "execution_count": 29,
   "outputs": [],
   "source": [
    "with open('private_users.json', 'w') as out_file:\n",
    "    for elem in private_list:\n",
    "        elem = json.loads(elem)\n",
    "        if type(elem['Bio']) == list:\n",
    "            elem['Bio'] = elem['Bio'][:-1]\n",
    "            elem['Bio'] = elem['Bio'][0]\n",
    "        elem = json.dumps(elem)\n",
    "        out_file.write(str(elem)+'\\n')\n",
    "with open('public_users.json', 'w') as out_file:\n",
    "    for elem in public_list:\n",
    "        elem = json.loads(elem)\n",
    "        if type(elem['Bio']) == list:\n",
    "            elem['Bio'] = elem['Bio'][:-1]\n",
    "            elem['Bio'] = elem['Bio'][0]\n",
    "        elem = json.dumps(elem)\n",
    "        out_file.write(str(elem)+'\\n')"
   ],
   "metadata": {
    "collapsed": false,
    "pycharm": {
     "name": "#%%\n"
    }
   }
  },
  {
   "cell_type": "code",
   "execution_count": 30,
   "outputs": [],
   "source": [
    "import os\n",
    "from pymongo import MongoClient\n",
    "from pymongo import InsertOne\n",
    "\n",
    "myclient = MongoClient('mongodb://localhost:27017')\n",
    "# Database\n",
    "db = myclient['Instagram']\n",
    "# Collection name\n",
    "collection = db['public']\n",
    "# Opening and uploading the json file.\n",
    "requesting = list()\n",
    "with open('private_users.json', 'r', encoding='utf-8') as file:\n",
    "    for line in file:\n",
    "        my_dict = json.loads(line)\n",
    "        requesting.append(InsertOne(my_dict))\n",
    "    collection.bulk_write(requesting)\n",
    "    myclient.close()"
   ],
   "metadata": {
    "collapsed": false,
    "pycharm": {
     "name": "#%%\n"
    }
   }
  },
  {
   "cell_type": "code",
   "execution_count": 31,
   "outputs": [],
   "source": [
    "import os\n",
    "from pymongo import MongoClient\n",
    "from pymongo import InsertOne\n",
    "\n",
    "myclient = MongoClient('mongodb://localhost:27017')\n",
    "# Database\n",
    "db = myclient['Instagram']\n",
    "# Collection name\n",
    "collection = db['private']\n",
    "# Opening and uploading the json file.\n",
    "requesting = list()\n",
    "with open('public_users.json', 'r', encoding='utf-8') as file:\n",
    "    for line in file:\n",
    "        my_dict = json.loads(line)\n",
    "        requesting.append(InsertOne(my_dict))\n",
    "    collection.bulk_write(requesting)\n",
    "    myclient.close()"
   ],
   "metadata": {
    "collapsed": false,
    "pycharm": {
     "name": "#%%\n"
    }
   }
  },
  {
   "cell_type": "code",
   "execution_count": 32,
   "outputs": [
    {
     "name": "stdout",
     "output_type": "stream",
     "text": [
      "length = 15\n",
      "breadth = 15\n",
      "area = 225\n"
     ]
    }
   ],
   "source": [
    "from math import ceil, floor\n",
    "\n",
    "perimeter = 60\n",
    "length = int(ceil(perimeter / 4))\n",
    "breadth = int(floor(perimeter / 4))\n",
    "area = length * breadth\n",
    "print(\"length = \" + str(length))\n",
    "print(\"breadth = \" + str(breadth))\n",
    "print(\"area = \" + str(area))"
   ],
   "metadata": {
    "collapsed": false,
    "pycharm": {
     "name": "#%%\n"
    }
   }
  },
  {
   "cell_type": "code",
   "execution_count": null,
   "outputs": [],
   "source": [],
   "metadata": {
    "collapsed": false,
    "pycharm": {
     "name": "#%%\n"
    }
   }
  }
 ],
 "metadata": {
  "kernelspec": {
   "display_name": "Python 3",
   "language": "python",
   "name": "python3"
  },
  "language_info": {
   "codemirror_mode": {
    "name": "ipython",
    "version": 2
   },
   "file_extension": ".py",
   "mimetype": "text/x-python",
   "name": "python",
   "nbconvert_exporter": "python",
   "pygments_lexer": "ipython2",
   "version": "2.7.6"
  }
 },
 "nbformat": 4,
 "nbformat_minor": 0
}