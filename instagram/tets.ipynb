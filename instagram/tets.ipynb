{
 "cells": [
  {
   "cell_type": "code",
   "execution_count": null,
   "outputs": [],
   "source": [
    "import instaloader\n",
    "import json"
   ],
   "metadata": {
    "collapsed": false,
    "pycharm": {
     "name": "#%%\n"
    }
   }
  },
  {
   "cell_type": "code",
   "execution_count": null,
   "outputs": [],
   "source": [
    "bot = instaloader.Instaloader()\n",
    "\n",
    "file = open('pepain101_followings.txt_followers.txt')\n",
    "\n",
    "# private_list = list()\n",
    "# public_list = list()\n",
    "name_list = list()\n",
    "user_list = list()\n",
    "i = 0\n",
    "\n",
    "for i in file:\n",
    "    name_list.append(i.rsplit())\n",
    "for i in name_list:\n",
    "    for j in i:\n",
    "        user_list.append(j)\n",
    "print(user_list[1911])"
   ],
   "metadata": {
    "collapsed": false,
    "pycharm": {
     "name": "#%%\n"
    }
   }
  },
  {
   "cell_type": "code",
   "execution_count": null,
   "outputs": [],
   "source": [
    "private_list = list()\n",
    "public_list = list()\n",
    "i = 0\n",
    "bot.login('cj.oooooh', 'BIGsmokey')\n",
    "for user in user_list[1912:2010]:\n",
    "    i += 1\n",
    "    print(user+\" \"+str(i)+\"/\"+str(len(user_list)))\n",
    "    # Load a profile from an Instagram handle\n",
    "    profile = instaloader.Profile.from_username(bot.context, user)\n",
    "    username = profile.username\n",
    "    privacy = profile.is_private\n",
    "    bio = profile.biography,profile.external_url\n",
    "    final = {\n",
    "        'Username': username,\n",
    "        'Privacy': privacy,\n",
    "        'Bio': bio\n",
    "    }\n",
    "    final = json.dumps(final)\n",
    "    if privacy == False:\n",
    "        private_list.append(final)\n",
    "    elif privacy == True:\n",
    "        public_list.append(final)"
   ],
   "metadata": {
    "collapsed": false,
    "pycharm": {
     "name": "#%%\n"
    }
   }
  },
  {
   "cell_type": "code",
   "execution_count": null,
   "outputs": [],
   "source": [
    "private_list"
   ],
   "metadata": {
    "collapsed": false,
    "pycharm": {
     "name": "#%%\n"
    }
   }
  },
  {
   "cell_type": "code",
   "execution_count": null,
   "outputs": [],
   "source": [
    "musical.ly_floppies"
   ],
   "metadata": {
    "collapsed": false,
    "pycharm": {
     "name": "#%%\n"
    }
   }
  },
  {
   "cell_type": "code",
   "execution_count": null,
   "outputs": [],
   "source": [
    "with open('private_users.json', 'w') as out_file:\n",
    "    for elem in private_list:\n",
    "        elem = json.loads(elem)\n",
    "        if type(elem['Bio']) == list:\n",
    "            elem['Bio'] = elem['Bio'][:-1]\n",
    "            elem['Bio'] = elem['Bio'][0]\n",
    "        elem = json.dumps(elem)\n",
    "        out_file.write(str(elem)+'\\n')\n",
    "with open('public_users.json', 'w') as out_file:\n",
    "    for elem in public_list:\n",
    "        elem = json.loads(elem)\n",
    "        if type(elem['Bio']) == list:\n",
    "            elem['Bio'] = elem['Bio'][:-1]\n",
    "            elem['Bio'] = elem['Bio'][0]\n",
    "        elem = json.dumps(elem)\n",
    "        out_file.write(str(elem)+'\\n')"
   ],
   "metadata": {
    "collapsed": false,
    "pycharm": {
     "name": "#%%\n"
    }
   }
  },
  {
   "cell_type": "code",
   "execution_count": null,
   "outputs": [],
   "source": [
    "import os\n",
    "from pymongo import MongoClient\n",
    "from pymongo import InsertOne\n",
    "\n",
    "myclient = MongoClient('mongodb://localhost:27017')\n",
    "# Database\n",
    "db = myclient['Instagram']\n",
    "# Collection name\n",
    "collection = db['public']\n",
    "# Opening and uploading the json file.\n",
    "requesting = list()\n",
    "with open('private_users.json', 'r', encoding='utf-8') as file:\n",
    "    for line in file:\n",
    "        my_dict = json.loads(line)\n",
    "        requesting.append(InsertOne(my_dict))\n",
    "    collection.bulk_write(requesting)\n",
    "    myclient.close()"
   ],
   "metadata": {
    "collapsed": false,
    "pycharm": {
     "name": "#%%\n"
    }
   }
  },
  {
   "cell_type": "code",
   "execution_count": null,
   "outputs": [],
   "source": [
    "import os\n",
    "from pymongo import MongoClient\n",
    "from pymongo import InsertOne\n",
    "\n",
    "myclient = MongoClient('mongodb://localhost:27017')\n",
    "# Database\n",
    "db = myclient['Instagram']\n",
    "# Collection name\n",
    "collection = db['private']\n",
    "# Opening and uploading the json file.\n",
    "requesting = list()\n",
    "with open('public_users.json', 'r', encoding='utf-8') as file:\n",
    "    for line in file:\n",
    "        my_dict = json.loads(line)\n",
    "        requesting.append(InsertOne(my_dict))\n",
    "    collection.bulk_write(requesting)\n",
    "    myclient.close()"
   ],
   "metadata": {
    "collapsed": false,
    "pycharm": {
     "name": "#%%\n"
    }
   }
  },
  {
   "cell_type": "code",
   "execution_count": null,
   "outputs": [],
   "source": [
    "from math import ceil, floor\n",
    "\n",
    "perimeter = 60\n",
    "length = int(ceil(perimeter / 4))\n",
    "breadth = int(floor(perimeter / 4))\n",
    "area = length * breadth\n",
    "print(\"length = \" + str(length))\n",
    "print(\"breadth = \" + str(breadth))\n",
    "print(\"area = \" + str(area))"
   ],
   "metadata": {
    "collapsed": false,
    "pycharm": {
     "name": "#%%\n"
    }
   }
  },
  {
   "cell_type": "code",
   "execution_count": 30,
   "outputs": [],
   "source": [
    "import os\n",
    "from pymongo import MongoClient\n",
    "from pymongo import InsertOne\n",
    "\n",
    "myclient = MongoClient('mongodb://localhost:27017')\n",
    "# Database\n",
    "db = myclient['Instagram']\n",
    "# Collection name\n",
    "collection = db['public']\n",
    "# Opening and uploading the json file.\n",
    "requesting = list()\n",
    "with open('private_users.json', 'r', encoding='utf-8') as file:\n",
    "    for line in file:\n",
    "        my_dict = json.loads(line)\n",
    "        requesting.append(InsertOne(my_dict))\n",
    "    collection.bulk_write(requesting)\n",
    "    myclient.close()"
   ],
   "metadata": {
    "collapsed": false,
    "pycharm": {
     "name": "#%%\n"
    }
   }
  },
  {
   "cell_type": "code",
   "execution_count": 31,
   "outputs": [],
   "source": [
    "import os\n",
    "from pymongo import MongoClient\n",
    "from pymongo import InsertOne\n",
    "\n",
    "myclient = MongoClient('mongodb://localhost:27017')\n",
    "# Database\n",
    "db = myclient['Instagram']\n",
    "# Collection name\n",
    "collection = db['private']\n",
    "# Opening and uploading the json file.\n",
    "requesting = list()\n",
    "with open('public_users.json', 'r', encoding='utf-8') as file:\n",
    "    for line in file:\n",
    "        my_dict = json.loads(line)\n",
    "        requesting.append(InsertOne(my_dict))\n",
    "    collection.bulk_write(requesting)\n",
    "    myclient.close()"
   ],
   "metadata": {
    "collapsed": false,
    "pycharm": {
     "name": "#%%\n"
    }
   }
  },
  {
   "cell_type": "code",
   "execution_count": 32,
   "outputs": [
    {
     "name": "stdout",
     "output_type": "stream",
     "text": [
      "length = 15\n",
      "breadth = 15\n",
      "area = 225\n"
     ]
    }
   ],
   "source": [
    "from math import ceil, floor\n",
    "\n",
    "perimeter = 60\n",
    "length = int(ceil(perimeter / 4))\n",
    "breadth = int(floor(perimeter / 4))\n",
    "area = length * breadth\n",
    "print(\"length = \" + str(length))\n",
    "print(\"breadth = \" + str(breadth))\n",
    "print(\"area = \" + str(area))"
   ],
   "metadata": {
    "collapsed": false,
    "pycharm": {
     "name": "#%%\n"
    }
   }
  },
  {
   "cell_type": "code",
   "execution_count": null,
   "outputs": [],
   "source": [],
   "metadata": {
    "collapsed": false,
    "pycharm": {
     "name": "#%%\n"
    }
   }
  }
 ],
 "metadata": {
  "kernelspec": {
   "display_name": "Python 3",
   "language": "python",
   "name": "python3"
  },
  "language_info": {
   "codemirror_mode": {
    "name": "ipython",
    "version": 2
   },
   "file_extension": ".py",
   "mimetype": "text/x-python",
   "name": "python",
   "nbconvert_exporter": "python",
   "pygments_lexer": "ipython2",
   "version": "2.7.6"
  }
 },
 "nbformat": 4,
 "nbformat_minor": 0
}