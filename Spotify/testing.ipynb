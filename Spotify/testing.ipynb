{
 "cells": [
  {
   "cell_type": "code",
   "execution_count": 2,
   "outputs": [],
   "source": [
    "import pymongo\n",
    "from pymongo import MongoClient"
   ],
   "metadata": {
    "collapsed": false,
    "pycharm": {
     "name": "#%%\n"
    }
   }
  },
  {
   "cell_type": "code",
   "execution_count": 7,
   "outputs": [],
   "source": [
    "s_list = list()\n",
    "myclient = MongoClient('mongodb://localhost:27017')\n",
    "# Database\n",
    "db = myclient['spotify']\n",
    "# Collection name\n",
    "collection = db['top2000_lyrics']\n",
    "songs = collection.find({},{'_id':0})\n",
    "for s in songs:\n",
    "    s_list.append(s)"
   ],
   "metadata": {
    "collapsed": false,
    "pycharm": {
     "name": "#%%\n"
    }
   }
  },
  {
   "cell_type": "code",
   "execution_count": 11,
   "outputs": [],
   "source": [
    "s_list = list()\n",
    "myclient = MongoClient('mongodb://localhost:27017')\n",
    "# Database\n",
    "db = myclient['spotify']\n",
    "# Collection name\n",
    "collection = db['top2000']\n",
    "songs = collection.find({},{'song_title': 1,'_id':0})\n",
    "for s in songs:\n",
    "    s_list.append(s['song_title'])"
   ],
   "metadata": {
    "collapsed": false,
    "pycharm": {
     "name": "#%%\n"
    }
   }
  },
  {
   "cell_type": "code",
   "execution_count": 8,
   "outputs": [],
   "source": [
    "songlist = list()\n",
    "song_list = list()\n",
    "for song in s_list:\n",
    "    song_title = song['song_title']\n",
    "    if song_title not in song_list:\n",
    "        songlist.append(song_title)\n",
    "        song_list.append(song)"
   ],
   "metadata": {
    "collapsed": false,
    "pycharm": {
     "name": "#%%\n"
    }
   }
  },
  {
   "cell_type": "code",
   "execution_count": 16,
   "outputs": [],
   "source": [
    "error_list = list()\n",
    "for song in s_list:\n",
    "    if song not in songlist:\n",
    "        error_list.append(song)\n",
    "    else:\n"
   ],
   "metadata": {
    "collapsed": false,
    "pycharm": {
     "name": "#%%\n"
    }
   }
  },
  {
   "cell_type": "code",
   "execution_count": 19,
   "outputs": [],
   "source": [
    "for song in song_list:\n",
    "    if song['lyrics'] == None:\n",
    "        print(song['lyrics'])"
   ],
   "metadata": {
    "collapsed": false,
    "pycharm": {
     "name": "#%%\n"
    }
   }
  },
  {
   "cell_type": "code",
   "execution_count": null,
   "outputs": [],
   "source": [],
   "metadata": {
    "collapsed": false,
    "pycharm": {
     "name": "#%%\n"
    }
   }
  }
 ],
 "metadata": {
  "kernelspec": {
   "display_name": "Python 3",
   "language": "python",
   "name": "python3"
  },
  "language_info": {
   "codemirror_mode": {
    "name": "ipython",
    "version": 2
   },
   "file_extension": ".py",
   "mimetype": "text/x-python",
   "name": "python",
   "nbconvert_exporter": "python",
   "pygments_lexer": "ipython2",
   "version": "2.7.6"
  }
 },
 "nbformat": 4,
 "nbformat_minor": 0
}