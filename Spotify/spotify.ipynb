{
 "cells": [
  {
   "cell_type": "code",
   "execution_count": 1,
   "metadata": {
    "pycharm": {
     "name": "#%%\n"
    }
   },
   "outputs": [],
   "source": [
    "from  __future__ import unicode_literals\n",
    "from bs4 import BeautifulSoup\n",
    "import requests\n",
    "import os\n",
    "import urllib.request\n",
    "from youtube_search import YoutubeSearch\n",
    "import youtube_dl\n",
    "import subprocess\n",
    "import sys\n",
    "from pytube import YouTube\n",
    "import os"
   ]
  },
  {
   "cell_type": "code",
   "execution_count": 18,
   "metadata": {
    "pycharm": {
     "name": "#%%\n"
    }
   },
   "outputs": [],
   "source": [
    "def get_yt(sp_link):\n",
    "    print(sp_link)\n",
    "    lenk = sp_link\n",
    "    if lenk.find('https://open.spotify.com') != 1:\n",
    "        res = requests.get(lenk)\n",
    "        soup = BeautifulSoup(res.text)\n",
    "        title = soup.find('meta', property='og:title')\n",
    "        artist_link = soup.find('meta', property=\"music:musician\")['content']\n",
    "        artist_page = BeautifulSoup(requests.get(artist_link).text)\n",
    "        artist_name = artist_page.find('meta', property='og:title')\n",
    "        song = title['content']\n",
    "        artist =  artist_name['content']\n",
    "        song_name = str(song + \" \" + artist)\n",
    "        # print( \"Song Found :  \" +  song_name)\n",
    "        song_name_final = song_name.replace(\" \", \"+\")\n",
    "        pre_url = \"https://www.youtube.com/results?search_query=\"\n",
    "        yt_search = pre_url + song_name_final\n",
    "        # print(yt_search)\n",
    "        results = list(YoutubeSearch(str(song_name), max_results=1).to_dict())[-1]\n",
    "        # results2 = list(results)[-1]\n",
    "        # print(type(results))\n",
    "        results2 = str(results['url_suffix'])\n",
    "        # print(results2)\n",
    "        # print(\"Song Found\")\n",
    "        # yt_pre = str(\"https://www.youtube.com/\" + results2)\n",
    "        return str(\"https://www.youtube.com/\" + results2)"
   ]
  },
  {
   "cell_type": "code",
   "execution_count": 19,
   "metadata": {
    "pycharm": {
     "name": "#%%\n"
    }
   },
   "outputs": [],
   "source": [
    "import youtube_dl\n",
    "def download_yt(video_url):\n",
    "    video_info = youtube_dl.YoutubeDL().extract_info(url = video_url,download=False)\n",
    "    filename = f\"{video_info['title']}.mp3\"\n",
    "    options={\n",
    "        'format':'bestaudio/best',\n",
    "        'keepvideo':False,\n",
    "        'outtmpl': 'downloads/'+filename,\n",
    "    }\n",
    "\n",
    "    with youtube_dl.YoutubeDL(options) as ydl:\n",
    "        ydl.download([video_info['webpage_url']])\n",
    "\n",
    "    print(\"Download complete... {}\".format(filename))"
   ]
  },
  {
   "cell_type": "code",
   "execution_count": 6,
   "metadata": {
    "pycharm": {
     "name": "#%%\n"
    }
   },
   "outputs": [],
   "source": [
    "def get_playlist_tracks(username,playlist_id):\n",
    "    results = sp.user_playlist_tracks(username,playlist_id)\n",
    "    tracks = results['items']\n",
    "    while results['next']:\n",
    "        results = sp.next(results)\n",
    "        tracks.extend(results['items'])\n",
    "    return tracks"
   ]
  },
  {
   "cell_type": "code",
   "execution_count": 7,
   "metadata": {
    "pycharm": {
     "name": "#%%\n"
    }
   },
   "outputs": [],
   "source": [
    "tracks = get_playlist_tracks('Pepain', '37i9dQZF1DWTmvXBN4DgpA')"
   ]
  },
  {
   "cell_type": "code",
   "execution_count": 5,
   "metadata": {
    "pycharm": {
     "name": "#%%\n"
    }
   },
   "outputs": [],
   "source": [
    "import spotipy\n",
    "from spotipy import SpotifyClientCredentials\n",
    "#Authentication - without user\n",
    "client_credentials_manager = SpotifyClientCredentials(client_id='31325e81db5f4a8280a7ffaccabf6cdc', client_secret='27c08d1dd04241aab98783999b2f2350')\n",
    "sp = spotipy.Spotify(client_credentials_manager = client_credentials_manager)"
   ]
  },
  {
   "cell_type": "code",
   "execution_count": 17,
   "metadata": {
    "pycharm": {
     "name": "#%%\n"
    }
   },
   "outputs": [],
   "source": [
    "import time\n",
    "song_list = list()\n",
    "for i in tracks:\n",
    "    song_list.append(i['track']['name'])"
   ]
  },
  {
   "cell_type": "code",
   "execution_count": 18,
   "metadata": {
    "pycharm": {
     "name": "#%%\n"
    }
   },
   "outputs": [
    {
     "data": {
      "text/plain": "['Bohemian Rhapsody - Remastered 2011',\n 'Roller Coaster',\n 'A Whiter Shade of Pale - Original Single Version',\n 'Hotel California - 2013 Remaster',\n 'Piano Man',\n 'Radar Love',\n 'Stairway to Heaven - Remaster',\n 'Nothing Else Matters',\n 'Black',\n 'Avond',\n 'Fix You',\n 'Love Of My Life - Remastered 2011',\n 'Wish You Were Here - 2011 Remaster',\n 'Soldier On',\n 'Child in Time',\n 'The River',\n 'November Rain',\n 'Brothers In Arms',\n 'The Sound of Silence',\n 'Door De Wind',\n 'Purple Rain',\n 'Comfortably Numb - 2011 Remastered Version',\n 'Africa',\n 'Heroes - 2017 Remaster',\n 'Sultans Of Swing',\n 'One',\n 'Oceaan',\n 'The Sound of Silence',\n 'Shine On You Crazy Diamond, Pts. 1-5 - 2011 Remaster',\n 'Smells Like Teen Spirit',\n 'Thunderstruck',\n 'Just Breathe',\n \"Sweet Child O' Mine\",\n 'Imagine - Remastered 2010',\n 'Paradise By the Dashboard Light',\n 'Telegraph Road',\n 'In The Air Tonight - 2015 Remastered',\n 'Shallow',\n 'Over De Muur',\n 'A Forest',\n 'Hurt',\n 'Innuendo - Remastered 2011',\n 'Viva La Vida',\n 'Dancing Queen',\n 'Go Your Own Way - 2004 Remaster',\n 'In the End',\n 'School',\n 'Killing In The Name',\n 'Cold Little Heart',\n 'Paint It, Black',\n 'Enter Sandman',\n 'Papa',\n 'When The Lady Smiles',\n 'Het Dorp',\n 'Bridge Over Troubled Water',\n 'Back To Black',\n \"Don't Stop Me Now - Remastered 2011\",\n 'Alive',\n 'Let It Be - Remastered 2009',\n 'Pastorale',\n 'Sunday Bloody Sunday - Remastered 2008',\n 'God Only Knows - Remastered',\n 'Sympathy For The Devil',\n 'Sorry',\n 'Master Of Puppets',\n 'Creep',\n 'With Or Without You - Remastered',\n 'Mr. Blue Sky',\n 'Under Pressure - Remastered 2011',\n 'Iron Sky',\n \"Fool's Overture\",\n 'The Scientist',\n 'Another Brick In The Wall, Pt. 2 - 2011 Remastered Version',\n 'One',\n 'Phantom Of The Opera',\n 'Lose Yourself',\n 'The Chain - 2004 Remaster',\n 'Somebody To Love - Live At The Freddie Mercury Tribute Concert For AIDS Awareness, Wembley / 1992',\n 'Uprising',\n 'Old and Wise',\n 'Somebody To Love - Remastered 2011',\n 'Here Comes The Sun - Remastered 2009',\n 'Brabant',\n 'Under the Bridge',\n 'Lola Montez',\n 'Mag Ik Dan Bij Jou',\n 'Riders on the Storm',\n 'Highway to Hell',\n 'Who Wants To Live Forever - Remastered 2011',\n 'Tears in Heaven',\n 'Angie',\n 'Angels',\n 'Private Investigations',\n 'Uncharted',\n 'Another 45 Miles',\n 'Zoutelande (feat. Geike)',\n 'Impossible (Orchestral Version) [Live at Abbey Road]',\n 'Chasing Cars',\n 'Jolene',\n 'Gimme Shelter',\n 'Blackbird - Remastered 2009',\n 'Het Regent Zonnestralen',\n 'Losing My Religion',\n 'Belfast Child',\n 'The Show Must Go On - Remastered 2011',\n 'Hey Jude',\n 'Whole Lotta Rosie',\n 'Have You Ever Seen The Rain',\n \"Don't Stop Believin'\",\n 'Goodnight Saigon',\n 'Dreams - 2004 Remaster',\n 'Twilight Zone',\n 'Suspicious Minds',\n 'Where The Streets Have No Name - Remastered',\n \"(Sittin' On) the Dock of the Bay\",\n 'Clocks',\n 'Laat Me',\n 'Yellow',\n 'Space Oddity - 2015 Remaster',\n 'Yesterday - Remastered 2009',\n 'Bitter Sweet Symphony',\n 'House of the Rising Sun',\n 'Three Little Birds',\n 'Someone Like You',\n 'Zombie',\n 'The Pretender',\n \"Don't Look Back In Anger\",\n 'Kleine Jongen',\n 'Nights In White Satin',\n 'Mr. Brightside',\n 'Stil In Mij',\n 'Paranoid',\n 'The Winner Takes It All',\n 'Knights of Cydonia',\n 'Hallelujah',\n 'Billie Jean',\n 'Your Song',\n 'Enjoy the Silence',\n 'Wuthering Heights',\n 'Du hast',\n 'Californication',\n \"I Still Haven't Found What I'm Looking For\",\n 'Come As You Are',\n 'Sweet Caroline',\n 'Rolling in the Deep',\n 'Wonderwall',\n 'Deutschland',\n 'A Sky Full of Stars',\n 'Sterrenstof',\n 'Fragile',\n 'Jeanny',\n 'The Boxer',\n 'Paradise City',\n \"Summer Of '69\",\n \"Nobody's Wife\",\n 'Blinding Lights',\n 'Bed Of Roses',\n 'Money For Nothing',\n 'Ice Queen',\n 'Careless Whisper',\n 'Proud Mary',\n 'Streets of Philadelphia',\n 'Fields Of Gold',\n 'Skyfall',\n 'Pokémon Theme-New Studio Recording',\n 'Saturday Night',\n 'Into My Arms - 2011 Remastered Version',\n 'The Last Resort - 2013 Remaster',\n 'Killer Queen - Remastered 2011',\n 'Sorry - (Live in Tivoli)',\n 'Graceland',\n 'Perfect',\n \"Don't You (Forget About Me) - Remastered 2001\",\n 'Bloed, Zweet En Tranen',\n 'Fortunate Son',\n 'September',\n \"Rocket Man (I Think It's Going To Be A Long, Long Time)\",\n 'She',\n 'Perfect Day',\n 'I Want To Break Free',\n 'Kayleigh',\n 'Earth Song',\n 'Smoke on the Water',\n 'Desperado - 2013 Remaster',\n 'Whole Lotta Love - 1990 Remaster',\n 'Sonne',\n 'Jeremy',\n 'Ne me quitte pas',\n 'Fear of the Dark - 2015 Remaster',\n 'Always Remember Us This Way',\n 'Make You Feel My Love',\n 'Barcelona',\n 'Somewhere Only We Know',\n 'Gimme! Gimme! Gimme! (A Man After Midnight)',\n 'One',\n 'Hello',\n 'Wind Of Change',\n 'In the Ghetto',\n 'Walk Of Life',\n 'Everybody Hurts',\n 'Dancing In the Dark',\n 'Lightning Crashes',\n 'Formidable',\n 'Atemlos durch die Nacht',\n 'The Unforgiven',\n 'The Unforgettable Fire',\n 'Ace of Spades',\n 'Zeg Me Dat Het Niet Zo Is',\n 'Street Spirit (Fade Out)',\n 'Treur Niet (Ode Aan Het Leven)',\n 'Het Is Al Laat Toch',\n 'Zing - Vecht - Huil - Bid - Lach - Werk En Bewonder',\n 'Thriller',\n 'I Put A Spell On You',\n 'Love You More',\n 'Just A Little Bit Of Peace In My Heart',\n 'Voor Haar',\n 'Fast Car',\n 'Ruthless Queen',\n 'Everlong',\n 'Another Love',\n 'November',\n 'Oude Maasweg',\n 'Dochters',\n 'Chop Suey!',\n 'Englishman In New York',\n 'Guaranteed',\n 'The Rose',\n \"Knockin' On Heaven's Door\",\n 'Dream On',\n \"I'm On Fire\",\n 'Society',\n 'Kronenburg Park',\n 'Sign of the Times',\n 'Iedereen Is Van De Wereld',\n 'Music',\n 'All Along the Watchtower',\n 'When We Were Young',\n 'Starman - 2012 Remaster',\n 'Bad - Edit',\n 'She Sells Sanctuary',\n 'Numb',\n 'Radio Ga Ga - Remastered 2011',\n 'Deurdonderen',\n 'Zij Gelooft In Mij',\n 'Still Got The Blues',\n 'While My Guitar Gently Weeps - Remastered 2009',\n 'Leave The Light On',\n 'The Load-Out - 2018 Remaster',\n 'My Immortal',\n 'Arcade',\n 'Papillon',\n 'Beautiful Day',\n 'Man in the Mirror',\n 'Insomnia',\n 'Wake Me Up',\n 'Lithium',\n 'Do I Wanna Know?',\n 'Bad Moon Rising',\n 'Fade To Black - Remastered',\n 'Vincent',\n \"Sad Man's Tongue\",\n 'We Will Rock You - Remastered 2011',\n 'Chiquitita',\n 'Testament',\n \"California Dreamin' - Single Version\",\n 'Ring of Fire',\n 'Whiskey In The Jar',\n 'Born to Run',\n 'Dust in the Wind',\n 'Sex on Fire',\n 'Ghost Love Score',\n 'Dansen Op De Vulkaan',\n \"I'm Gonna Be (500 Miles)\",\n 'Hurricane',\n 'Echoes - 2011 Remastered Version',\n 'Against All Odds (Take a Look at Me Now) - 2016 Remaster',\n 'La bohème',\n 'The Day Before You Came',\n 'Hallelujah',\n \"Livin' On A Prayer\",\n \"I Was Made For Lovin' You\",\n 'Going to the Run',\n 'Run to the Hills - 2015 Remaster',\n 'Every Breath You Take',\n \"I'm Still Standing\",\n 'Du',\n \"Don't Let the Sun Go Down on Me\",\n 'Boulevard of Broken Dreams',\n 'One Day Like This',\n 'Niemand In De Stad',\n 'Engel',\n 'Ze Huilt Maar Ze Lacht',\n 'Take Me Home, Country Roads',\n 'Everywhere - 2017 Remaster',\n 'Une belle histoire',\n 'Psycho',\n 'Pride (In The Name Of Love) - Remastered 2009',\n 'Kashmir - 1990 Remaster',\n 'Roxanne',\n 'Als Ze Er Niet Is',\n 'No One Knows',\n 'Angel Of Death',\n 'Redemption Song',\n 'Zo Stil',\n 'The Man with the Child in His Eyes',\n 'My Way',\n \"Don't Give Up\",\n 'I Would Stay',\n 'Forever Young',\n 'The Man Who Sold The World',\n 'Sara',\n 'Long Blond Animal',\n 'Welcome To The Jungle',\n 'Mamma Mia',\n 'Silent Lucidity - Remastered 2003',\n 'Heart of Gold - 2009 Remaster',\n 'Born Slippy (Nuxx)',\n 'Haus am See',\n 'De Echte Vent',\n 'Seven Nation Army',\n 'Thank You For The Music',\n \"Ain't No Sunshine\",\n 'Eagle',\n 'Landslide',\n 'Lay All Your Love On Me',\n 'Karma Police',\n 'Laat Me / Vivre - Lange Versie',\n 'Me and Bobby McGee',\n 'Take on Me',\n 'The Logical Song - Remastered 2010',\n \"She's Always a Woman\",\n 'Kryptonite',\n 'In Your Arms',\n 'De Peel In Brand',\n 'No Woman, No Cry - Live At The Lyceum, London/1975',\n 'Mama - Remastered 2007',\n \"You Can't Always Get What You Want\",\n 'Old Man - 2009 Remaster',\n 'Iris',\n 'Verdronken Vlinder',\n 'Holiday In Spain',\n 'With A Little Help From My Friends',\n 'White Rabbit',\n 'Oerend Hard',\n 'Blauw',\n 'Solsbury Hill',\n 'Waterloo',\n 'Nothing Compares 2 U',\n '99 Luftballons',\n 'Worn Down Piano',\n 'Troy',\n 'Op Fietse',\n 'Hold the Line',\n 'These Are The Days Of Our Lives - 2011 Remaster',\n 'Onderweg',\n \"(I Can't Get No) Satisfaction - Mono Version\",\n 'Empire State Of Mind',\n 'Black Hole Sun',\n 'Back In Black',\n 'Set Fire to the Rain',\n 'bad guy',\n 'Beat It',\n 'Window Of My Eyes - From \"The American\" Soundtrack',\n 'More Than a Feeling',\n 'Geef Mij Je Angst',\n 'Is Dit Nou Later',\n 'God Is a DJ',\n 'Romeo And Juliet',\n 'Mother Earth',\n 'Omarm',\n 'Non, je ne regrette rien',\n 'Another Day in Paradise - 2016 Remaster',\n 'De Vlieger',\n \"Can't Help Falling in Love\",\n 'Stan',\n 'The Whole of the Moon',\n 'A Day In The Life - Remastered 2009',\n 'The End',\n 'Stop Loving You',\n 'De Overkant',\n 'Little Lion Man',\n 'Baba O Riley',\n 'Free Bird',\n 'Zeg Maar Niets Meer',\n 'Another One Bites The Dust - Remastered 2011',\n 'Basket Case',\n 'Nao ’t Zuuje',\n 'Poison',\n 'Als Het Avond Is',\n 'Jesus to a Child',\n 'Time - 2011 Remastered Version',\n 'Tougher Than the Rest',\n 'Run',\n 'When Doves Cry',\n 'Always On My Mind',\n 'Brown Eyed Girl',\n 'Last Christmas',\n \"Rockin' in the Free World\",\n 'I Want to Know What Love Is - 1999 Remaster',\n 'Streets',\n 'La Grange - 2005 Remaster',\n 'Islands in the Stream',\n 'Layla - Acoustic; Live at MTV Unplugged, Bray Film Studios, Windsor, England, UK, 1/16/1992; 2013 Remaster',\n 'Mag Het Licht Uit',\n 'Radioactive',\n 'Vienna',\n 'Eye In The Sky',\n 'One of These Nights - 2013 Remaster',\n 'Papaoutai',\n 'Take It Easy - 2013 Remaster',\n 'Rainbow In The Sky - Radio Edit',\n 'Sinds 1 Dag Of 2 (32 Jaar)',\n 'Tennessee Whiskey',\n \"Annie's Song\",\n 'Bat Out of Hell',\n 'Blue Monday - 2016 Remaster',\n 'Human',\n 'Harder Dan Ik Hebben Kan',\n 'Hey Brother',\n 'Born in the U.S.A.',\n 'Money - 2011 Remastered Version',\n 'Lost',\n 'I Walk the Line',\n 'Still Loving You',\n 'Het Werd Zomer',\n 'My Hometown',\n 'Jump',\n 'Eleanor Rigby - Remastered 2009',\n 'Memories',\n 'We Are The Champions - Remastered 2011',\n 'I Am...I Said - Single Version',\n 'Levels - Original Version',\n 'Amigo',\n 'Aan De Kust',\n 'Take Me To Church',\n 'Estranged',\n 'I See Fire - From \"The Hobbit - The Desolation Of Smaug\"',\n 'Paranoid Android',\n 'River Deep - Mountain High',\n 'Vivo per lei',\n 'Does Your Mother Know',\n 'Groot Hart',\n 'Alive And Kicking',\n 'Everybody Wants To Rule The World',\n 'Respect',\n 'Lopen Tot De Zon Komt',\n 'Smooth Criminal - 2012 Remaster',\n 'Smokers Outside the Hospital Doors',\n 'L.A. Woman',\n 'A Horse with No Name',\n \"They Don't Care About Us\",\n 'Sad But True',\n 'Patience',\n 'Sweet Dreams (Are Made of This) - Remastered',\n \"Who'll Stop The Rain\",\n 'Easy On Me',\n 'Wonderful Tonight',\n \"Hald Mich 'S Vas\",\n 'Time in a Bottle',\n 'Heading Up High',\n 'The Cave',\n 'Foto Van Vroeger',\n 'De boer is de keerl',\n 'Narcotic - Long Version',\n 'Learn to Fly',\n \"What's Going On\",\n 'Golden Brown',\n 'Crazy Little Thing Called Love - Remastered 2011',\n \"Stayin' Alive\",\n 'Toen Ik Je Zag - Single Version',\n 'Mrs. Robinson - From \"The Graduate\" Soundtrack',\n 'Shape of You',\n 'Diamonds',\n 'Snow (Hey Oh)',\n 'De Vondeling Van Ameland',\n 'Message In A Bottle',\n 'She Flies On Strange Wings',\n 'Tonight (With David Bowie) - Live',\n 'Suzanne',\n 'Never Gonna Give You Up',\n 'Kiss from a Rose',\n 'Valerie (feat. Amy Winehouse) - Version Revisited',\n 'Chan Chan',\n 'Folsom Prison Blues - Live at Folsom State Prison, Folsom, CA - January 1968',\n \"You'll Never Walk Alone\",\n 'Time To Give',\n 'Linger',\n 'All of Me',\n 'Strong',\n 'Élan',\n 'Thinking out Loud',\n 'Dansen Aan Zee',\n 'Believer',\n 'Penny Lane',\n 'Whatever You Want',\n 'Sweet Home Alabama',\n 'Somebody That I Used To Know',\n 'Love Will Tear Us Apart',\n 'Wicked Game',\n 'Life on Mars? - 2015 Remaster',\n 'Starlight',\n 'Where Did You Sleep Last Night',\n 'Halt mich',\n 'The Power Of Love',\n 'Total Eclipse of the Heart',\n 'Ik Kan Het Niet Alleen',\n 'Samba Pa Ti',\n 'My Boy',\n 'This Is What It Feels Like',\n 'Leaving, On a Jet Plane - \"Greatest Hits\" Version',\n 'Amsterdam',\n 'Plug in Baby',\n 'What A Wonderful World',\n 'Even Flow',\n 'Joan Of Arc (Maid Of Orleans)',\n 'You Shook Me All Night Long',\n 'Duurt Te Lang',\n 'Supermassive Black Hole',\n 'Geef Mij Je Angst',\n 'Ren Lenny Ren',\n 'American Pie',\n 'Hammer To Fall - Remastered 2011',\n 'Fantasy',\n 'Why Tell Me Why',\n 'Hoe Het Danst',\n 'War',\n 'Demons',\n 'Paradise',\n 'Time to Say Goodbye',\n 'Wild Horses - 2009 Mix',\n 'Liefs Uit Londen',\n 'Breaking the Habit',\n 'Little Lies',\n 'Wrong',\n 'Unfinished Sympathy - 2006 Digital Remaster',\n 'Like The Way I Do',\n 'Hey Joe',\n 'Dat Ik Je Mis',\n \"It's My Life\",\n 'Birds',\n \"Let's Dance - 2018 Remaster\",\n \"'k Heb Je Lief\",\n 'Red Red Wine',\n 'Alles Geprobeerd',\n \"New Year's Day\",\n 'The Great Gig In The Sky - 2011 Remastered Version',\n 'She',\n 'Rehab',\n 'Slippery People - Live',\n 'Million Years Ago',\n 'Limburg - Live',\n 'Songbird - 2004 Remaster',\n 'I Feel Love',\n 'Changes',\n 'Wake Me up When September Ends',\n 'Albatross',\n 'Let It Happen',\n 'Lola - Live',\n 'Bring Me To Life',\n 'Under The Pressure',\n 'Always',\n 'Father Figure',\n 'Papa Was A Rolling Stone',\n \"Runnin' with the Devil - 2015 Remaster\",\n 'Come Together - Remastered 2009',\n 'The Final Countdown',\n 'Witch Doctor',\n 'High Hopes - 2011 Remaster',\n 'Light My Fire',\n 'Can I Play with Madness - 2015 Remaster',\n 'Cowboys and Angels',\n 'I Gotta Feeling',\n 'Immigrant Song - Remaster',\n 'Psycho Killer - 2005 Remaster',\n 'Running Up That Hill (A Deal With God)',\n 'Tusk',\n 'Such a Shame',\n 'Sometimes It Snows in April',\n 'Numb / Encore',\n \"Freedom! '90 - Remastered\",\n 'Sorry',\n 'Good Vibrations - Remastered 2001',\n 'Feel Good Inc.',\n 'Castle on the Hill',\n 'Conquest of Paradise',\n 'Cloudbusting',\n 'A Different Corner',\n 'Rosanna',\n 'Voulez-Vous',\n 'One Step Beyond - 2009 - Remaster',\n 'Lullaby',\n 'Video Games',\n 'I Will Follow - Live',\n 'Kom Terug',\n 'Is She Really Going Out With Him? - Live',\n \"I'd Do Anything For Love (But I Won't Do That) - Live From The Beacon Theatre, New York, U.S.A./1995\",\n 'I Don\\'t Want to Miss a Thing - From \"Armageddon\" Soundtrack',\n 'Baker Street',\n 'Tiny Dancer',\n 'Never Tear Us Apart',\n 'Scar Tissue',\n 'Leef',\n 'Like a Hurricane - 2003 Remaster',\n 'Have I Told You Lately',\n 'I Say a Little Prayer',\n 'Zonder Jou',\n 'Rhiannon',\n 'Uptown Funk (feat. Bruno Mars)',\n 'Dirty Diana',\n 'Stapelgek',\n 'Dreamer',\n 'Champagne Supernova',\n 'Alone',\n 'The Best',\n 'Overcome',\n \"You'll Be In My Heart\",\n \"Don't Stop - 2004 Remaster\",\n 'Leningrad',\n 'A Boy Named Sue',\n 'Holding Back the Years - 2008 Remaster',\n 'Michel',\n 'What About Us',\n 'Dat Komt Door Jou',\n 'Blauwe Dag',\n 'Strawberry Fields Forever - Remastered 2009',\n 'Morning Has Broken',\n 'One Way Wind',\n \"Gangsta's Paradise\",\n 'The Boys Of Summer',\n 'Nightswimming',\n 'I Have A Dream',\n 'Belgie ... (Is Er Leven Op Pluto ...)',\n 'Tribute',\n 'Down Under',\n 'Superstition - Single Version',\n 'Slow Dancing in a Burning Room',\n 'Get Back - Remastered 2009',\n 'Take A Chance On Me',\n 'Bliss',\n 'White Room',\n 'everything i wanted',\n 'Otherside',\n 'Welterusten Mijnheer De President',\n 'Little Black Submarines',\n 'Sweet Goodbyes',\n 'Driving Home for Christmas',\n 'Let Her Go',\n 'Hold on to Let Go',\n 'Yesterday When I Was Young',\n 'Halo of Flies',\n 'Der Weg',\n 'De Verzoening',\n 'Vlinder',\n 'Fields Of Gold',\n 'Dreadlock Holiday',\n 'Thinking of a Place',\n 'Happy New Year',\n 'Do I Ever',\n 'Nikita',\n 'Faith',\n 'Wasted Years - 2015 Remaster',\n 'How Deep Is Your Love',\n 'Thunder Road',\n 'In the Blood',\n \"(Don't Fear) The Reaper\",\n 'Roll Over Lay Down - Live At The Kursaal, Southend / 1975',\n 'Feel',\n 'Badlands',\n 'Ironic',\n 'Through the Barricades - Remastered',\n 'De Bom',\n 'Mutter',\n 'Jimmy - Originele Studio Versie',\n 'Hey You - 2011 Remastered Version',\n 'I Bet You Look Good On The Dancefloor',\n 'Once Upon a Time in the West - Main Theme',\n 'Voilà',\n 'Waterfront - Remastered 2002',\n 'Lea',\n 'Chandelier',\n 'Our House',\n 'The A Team',\n 'Shape Of My Heart',\n \"She's Not There\",\n 'Circle of Life',\n 'Gravity',\n 'Banger Hart',\n 'Something - Remastered 2009',\n 'Alors on danse - Radio Edit',\n 'Riddles',\n 'Heal the World',\n 'Wonderful Days',\n 'Back Home',\n 'Black Magic Woman',\n 'Fernando',\n 'Never Be Clever',\n 'The Long And Winding Road - Remastered 2009',\n '(Everything I Do) I Do It For You',\n 'Het het nog nooit zo donker west',\n 'Binnen Zonder Kloppen',\n 'Teardrop',\n \"I'm Not In Love\",\n 'Ben - Single Version',\n 'Black Betty',\n 'I Will Wait',\n 'Not An Addict',\n 'Would?',\n 'Smoorverliefd',\n 'Belle Hélène',\n 'Year of the Cat - 2001 Remaster',\n 'Happy - From \"Despicable Me 2\"',\n 'Calm After The Storm',\n 'I Will Always Love You',\n 'You Are so Beautiful',\n 'Hold Me Now',\n 'Hier Kom Ik Weg',\n 'Liefde Van Later',\n 'Let There Be Rock',\n \"Blowin' in the Wind\",\n 'Beautiful Noise',\n 'Zandloper',\n 'One More Light',\n 'What It Is',\n 'Hard Sun',\n \"Don't Give Up the Fight\",\n 'Halo',\n 'El Condor Pasa (If I Could)',\n 'Venus',\n 'Sabotage',\n 'You Can Call Me Al',\n 'Links Rechts',\n \"Ain't Got No - I Got Life - Single Version\",\n 'Jailhouse Rock',\n 'Smalltown Boy',\n 'Woman In Chains',\n 'The Less I Know The Better',\n 'Pompeii',\n 'Chasing Pavements',\n 'The Weight - Remastered 2000',\n 'I Want It All - Single Version',\n 'Just Give Me a Reason (feat. Nate Ruess)',\n 'Follow You Follow Me - Remastered 2007',\n '(You Make Me Feel Like) A Natural Woman',\n 'Niet Of Nooit Geweest',\n 'Weekend Love',\n 'So Long, Marianne',\n 'Hocus Pocus',\n 'Nothing Rhymed',\n 'New Kid in Town - 2013 Remaster',\n \"Friday I'm In Love\",\n 'Zij Maakt Het Verschil',\n 'Zwart Wit',\n 'Private Dancer - 2015 Remaster',\n 'Tunnel Of Love',\n 'Fly Me To The Moon (In Other Words)',\n 'Titanium (feat. Sia)',\n 'Auto Vliegtuug',\n 'Bloedend Hart',\n 'Major Tom',\n 'A Kind Of Magic - Remastered 2011',\n 'Exit Music (For A Film)',\n 'Us And Them - 2011 Remastered Version',\n 'Trapped - Live at Meadowlands Arena, E. Rutherford, NJ - August 1984',\n 'Start Me Up - Remastered 2009',\n 'Weak',\n 'Sovereign Light Café',\n '1999',\n 'Unchained Melody',\n \"A Gentleman's Excuse Me\",\n 'Lemon Tree',\n 'Layla',\n \"Sign 'O' the Times\",\n 'Firth Of Fifth - Remastered 2008',\n 'In the Dutch Mountains',\n 'I Follow Rivers - Bonus Track - Live @ Giel VARA/3FM',\n \"Don't Dream It's Over\",\n 'The Passenger',\n 'Take The Long Way Home - 2010 Remastered',\n \"Lyin' Eyes - 2013 Remaster\",\n 'Let Me Entertain You',\n 'Try',\n 'Be My Number Two',\n 'Walk',\n 'Like a Rolling Stone',\n 'Slapeloze Nachten',\n 'Zelfs Je Naam Is Mooi',\n 'Kingston Town',\n 'Knowing Me, Knowing You',\n 'Candle In The Wind 1997',\n 'The Weight',\n 'Going To A Town',\n 'American Idiot',\n 'Dark Necessities',\n 'Diamonds on the Soles of Her Shoes',\n 'Sailing',\n 'Natural',\n 'Without Me',\n 'Boogie Wonderland',\n 'Fat Bottomed Girls - Single Version / Remastered 2011',\n 'I Alone',\n 'Super Trouper',\n 'Firestarter',\n 'Save Your Tears',\n 'Go Like Elijah',\n 'Need Your Love So Bad',\n 'Here I Go Again - 2018 Remaster',\n 'Glory Days',\n 'De Neus Umhoeg',\n 'Goodbye Yellow Brick Road - Remastered 2014',\n 'The Unforgiven II',\n 'Give A Little Bit',\n 'Human',\n 'Musica è',\n 'Daughters',\n 'One Of Us',\n \"You're The First, The Last, My Everything\",\n 'This Is The Life',\n 'Think',\n 'China Girl - 2002 Remaster',\n 'Bright Eyes',\n 'Every Little Thing She Does Is Magic',\n \"Easy Livin'\",\n 'Clint Eastwood',\n 'De Zon Op',\n 'Father And Son',\n 'How You Remind Me',\n 'Het Is Een Nacht... (Levensecht)',\n 'Land Of Confusion - Remastered 2007',\n 'Smack My Bitch Up',\n 'Lust For Life',\n 'When The Sun Goes Down',\n 'Lavender',\n 'I Will Survive - Single Version',\n 'So Long',\n 'Eye of the Tiger',\n 'Homeward Bound',\n \"The Man Who Can't Be Moved\",\n 'Tinseltown in the Rain',\n 'Love Hurts - Single Edit',\n 'Jungleland',\n 'Son Of A Preacher Man',\n 'Once in a Lifetime - 2005 Remaster',\n \"She's A Rainbow - Full Version / With Intro\",\n 'Black or White - Single Version',\n 'Golden',\n 'Story of My Life',\n 'I Want You',\n 'Prachtig mooie dag',\n 'Pressure Makes Diamonds',\n 'Rebel Rebel - 2016 Remaster',\n 'Heaven',\n 'Con te partirò',\n 'Where Is The Love?',\n 'Hou Vol Hou Vast',\n '9 Crimes',\n 'Self Esteem',\n 'Teach Your Children',\n \"What's Up?\",\n 'Unintended',\n 'Rain Down on Me',\n 'Song 2',\n 'Hallelujah',\n 'Take Me Out',\n 'Sebastian - 2012 Remaster',\n 'Wild Is the Wind - 2016 Remaster',\n 'Real Men',\n 'Malle Babbe',\n 'There Is a Light That Never Goes Out - 2011 Remaster',\n 'Good Riddance (Time of Your Life)',\n 'You Give Love A Bad Name',\n 'Watermelon Sugar',\n 'Ordinary World',\n 'The Real Slim Shady',\n 'Heaven Must Be Missing An Angel - Pt. 1',\n '9 to 5',\n 'Stand My Ground',\n 'All I Want for Christmas Is You',\n \"Road Trippin'\",\n \"Boys Don't Cry\",\n 'Listen To Your Heart',\n 'I Still Cry',\n 'Hometown Glory',\n 'Mr Bojangles',\n 'Dance Me to the End of Love',\n 'Sharp Dressed Man',\n 'I Heard It Through The Grapevine',\n 'Thunder',\n 'Down Down',\n 'Sailing To Philadelphia',\n 'Could You Be Loved',\n 'Onderuit',\n 'Anyplace, Anywhere, Anytime - Radio Version',\n 'Jersey Girl - Live at Meadowlands Arena, E. Rutherford, NJ - July 1981',\n 'Pain And Misery',\n 'Brown Sugar - 2009 Remaster',\n 'Owner of a Lonely Heart',\n \"Gimme All Your Lovin'\",\n 'Norwegian Wood (This Bird Has Flown) - Remastered 2009',\n 'Where the Wild Roses Grow - 2011 - Remaster',\n 'Moonlight Shadow',\n 'Iederene Hef Een Reden',\n 'Easy Lover',\n 'Traffic - Radio Edit',\n 'Voodoo Child (Slight Return)',\n 'I Want It That Way',\n 'On Every Street',\n 'Photograph',\n 'Everything Now',\n 'The Lady In Red',\n \"Just Can't Get Enough - Live in Hammersmith\",\n 'Reünie',\n \"Can't Stop\",\n 'Dancing in the Street - 2002 Remaster',\n 'Like a Prayer',\n 'Everglow',\n 'So Lonely',\n 'New Gold Dream (81/82/83/84) - Remastered 2002',\n 'All I Want Is You',\n 'Four Seasons In One Day',\n 'Come On Eileen',\n 'Porcelain',\n 'Suzie Q',\n 'Droomland',\n 'Personal Jesus - Single Version',\n 'Heart-Shaped Box',\n 'Whatever It Takes',\n 'Als Het Golft',\n 'Give It Away',\n 'Sound and Vision - 2017 Remaster',\n 'Band On The Run - Remastered 2010',\n 'You Do Something To Me',\n 'Blauwe Ruis',\n 'The Turn of a Friendly Card',\n 'Civil War',\n \"I Just Can't Help Believin' - Remastered [Live]\",\n \"That's Life\",\n 'Walk On the Wild Side',\n \"Don't Cry (Original)\",\n 'Red Eyes',\n \"You're My Best Friend - Remastered 2011\",\n 'Shout',\n 'Only Time',\n 'Strange Machines',\n \"You Know I'm No Good\",\n 'If You Tolerate This Your Children Will Be Next',\n 'CAN\\'T STOP THE FEELING! (from DreamWorks Animation\\'s \"TROLLS\")',\n 'Ik Bun Maor Een Eenvoudigen Boerenlul',\n 'Tubular Bells',\n 'Our House',\n 'Have A Little Faith In Me',\n 'Gold',\n 'Someone You Loved',\n 'Raspberry Beret',\n 'Candy',\n 'Daar Gaat Ze',\n 'Man On The Moon',\n 'Turning Tables',\n 'Margherita',\n 'No More Tears',\n 'State of Independence',\n 'Ik Wou Dat Ik Jou Was',\n 'Rasputin - Single Version',\n \"Theme from Harry's Game - Remastered\",\n 'The Family Tree',\n 'lippy kids',\n 'Gaia',\n 'Burning Love',\n 'Tainted Love',\n 'Little Wing',\n 'Disarm - Remastered',\n 'Stand by Me',\n \"Killer / Papa Was a Rollin' Stone\",\n 'The Wind Cries Mary',\n 'In Nije Dei',\n 'Miss You - Remastered',\n \"I'll Take Care Of You\",\n 'Tranen Gelachen',\n 'Beautiful People',\n 'Afterglow',\n 'People Are Strange',\n 'Plush',\n 'Jesus He Knows Me',\n 'Denis',\n 'You Want It Darker',\n 'Stressed Out',\n \"L'amour Toujours (Small Mix)\",\n 'Waiting On A Friend - Remastered 2009',\n \"Non non rien n'a changé\",\n \"It's My Life - 1997 Remaster\",\n 'Freak On a Leash',\n 'More Than A Woman - From \"Saturday Night Fever\" Soundtrack',\n 'Lazarus',\n 'Everybody Needs Somebody to Love',\n 'Help! - Remastered 2009',\n 'Better Man',\n 'Drops of Jupiter (Tell Me)',\n 'Proud Mary',\n \"You've Got a Friend\",\n 'Unchain My Heart',\n ...]"
     },
     "execution_count": 18,
     "metadata": {},
     "output_type": "execute_result"
    }
   ],
   "source": [
    "song_list"
   ]
  },
  {
   "cell_type": "code",
   "execution_count": null,
   "outputs": [],
   "source": [
    "download_yt(get_yt(link_list[0]))"
   ],
   "metadata": {
    "collapsed": false,
    "pycharm": {
     "name": "#%%\n"
    }
   }
  },
  {
   "cell_type": "code",
   "execution_count": null,
   "outputs": [],
   "source": [
    "import youtube_dl\n",
    "def download_ytvid_as_mp3():\n",
    "    video_url = input(\"enter url of youtube video:\")\n",
    "    video_info = youtube_dl.YoutubeDL().extract_info(url = video_url,download=False)\n",
    "    filename = f\"{video_info['title']}.mp3\"\n",
    "    options={\n",
    "        'format':'downloads/',\n",
    "        'keepvideo':False,\n",
    "        'outtmpl':filename,\n",
    "    }\n",
    "\n",
    "    with youtube_dl.YoutubeDL(options) as ydl:\n",
    "        ydl.download([video_info['webpage_url']])\n",
    "\n",
    "    print(\"Download complete... {}\".format(filename))\n",
    "download_ytvid_as_mp3()"
   ],
   "metadata": {
    "collapsed": false,
    "pycharm": {
     "name": "#%%\n"
    }
   }
  },
  {
   "cell_type": "code",
   "execution_count": 13,
   "metadata": {
    "pycharm": {
     "name": "#%%\n"
    }
   },
   "outputs": [
    {
     "name": "stdout",
     "output_type": "stream",
     "text": [
      "https://open.spotify.com/track/4u7EnebtmKWzUH433cf5Qv\n"
     ]
    },
    {
     "data": {
      "text/plain": [
       "'https://www.youtube.com//watch?v=fJ9rUzIMcZQ'"
      ]
     },
     "execution_count": 13,
     "metadata": {},
     "output_type": "execute_result"
    }
   ],
   "source": [
    "get_yt(link_list[0])"
   ]
  },
  {
   "cell_type": "code",
   "execution_count": null,
   "metadata": {
    "pycharm": {
     "name": "#%%\n"
    }
   },
   "outputs": [],
   "source": []
  }
 ],
 "metadata": {
  "kernelspec": {
   "display_name": "Python 3 (ipykernel)",
   "language": "python",
   "name": "python3"
  },
  "language_info": {
   "codemirror_mode": {
    "name": "ipython",
    "version": 3
   },
   "file_extension": ".py",
   "mimetype": "text/x-python",
   "name": "python",
   "nbconvert_exporter": "python",
   "pygments_lexer": "ipython3",
   "version": "3.8.10"
  }
 },
 "nbformat": 4,
 "nbformat_minor": 1
}